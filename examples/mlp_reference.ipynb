{
 "cells": [
  {
   "cell_type": "markdown",
   "metadata": {},
   "source": [
    "# MLP Reference Implementation in Pytorch.\n",
    "\n",
    "This implementation is almost identical to Pytorch's FashionMNIST example in\n",
    "its [quickstart](https://pytorch.org/tutorials/beginner/basics/quickstart_tutorial.html)\n",
    "\n",
    "See the mlax implementation in the `mlp.ipynb` notebook."
   ]
  },
  {
   "cell_type": "code",
   "execution_count": 1,
   "metadata": {},
   "outputs": [],
   "source": [
    "import torch\n",
    "from torch import nn\n",
    "from torch import optim\n",
    "from torch.utils.data import DataLoader\n",
    "import torchvision\n",
    "from torch.utils import data\n",
    "import numpy as np"
   ]
  },
  {
   "cell_type": "markdown",
   "metadata": {},
   "source": [
    "### Load the MNIST dataset"
   ]
  },
  {
   "cell_type": "code",
   "execution_count": 2,
   "metadata": {},
   "outputs": [
    {
     "name": "stdout",
     "output_type": "stream",
     "text": [
      "torch.Size([60000, 28, 28])\n",
      "torch.Size([10000, 28, 28])\n"
     ]
    }
   ],
   "source": [
    "mnist_train = torchvision.datasets.MNIST(\n",
    "    root=\"data\",\n",
    "    train=True,\n",
    "    download=True,\n",
    "    transform=torchvision.transforms.ToTensor()\n",
    ")\n",
    "mnist_test = torchvision.datasets.MNIST(\n",
    "    root=\"data\",\n",
    "    train=False,\n",
    "    download=True,\n",
    "    transform=torchvision.transforms.ToTensor()\n",
    ")\n",
    "print(mnist_train.data.shape)\n",
    "print(mnist_test.data.shape)"
   ]
  },
  {
   "cell_type": "markdown",
   "metadata": {},
   "source": [
    "### Batch the MNIST data with Pytorch dataloaders\n",
    "Data is not shuffled to keep in line with the mlax implementation."
   ]
  },
  {
   "cell_type": "code",
   "execution_count": 3,
   "metadata": {},
   "outputs": [
    {
     "name": "stdout",
     "output_type": "stream",
     "text": [
      "938 157\n"
     ]
    }
   ],
   "source": [
    "# Note data is not shuffled\n",
    "train_dataloader = DataLoader(mnist_train, batch_size=64)\n",
    "test_dataloader = DataLoader(mnist_test, batch_size=64)\n",
    "print(len(train_dataloader), len(test_dataloader))"
   ]
  },
  {
   "cell_type": "markdown",
   "metadata": {},
   "source": [
    "Unlike in mlax, in Pytorch, the default device is the CPU."
   ]
  },
  {
   "cell_type": "code",
   "execution_count": 4,
   "metadata": {},
   "outputs": [],
   "source": [
    "device = \"cuda\" if torch.cuda.is_available() else \"cpu\""
   ]
  },
  {
   "cell_type": "markdown",
   "metadata": {},
   "source": [
    "### Define MLP using modules.\n",
    "Unlike in mlax's model, the Pytorch MLP does not end with softmax layer. This is\n",
    "because `torch.nn.CrossEntropyLoss` take in logits, not probabilities."
   ]
  },
  {
   "cell_type": "code",
   "execution_count": 5,
   "metadata": {},
   "outputs": [
    {
     "name": "stdout",
     "output_type": "stream",
     "text": [
      "MLP(\n",
      "  (flatten): Flatten(start_dim=1, end_dim=-1)\n",
      "  (linear_stack): Sequential(\n",
      "    (0): Linear(in_features=784, out_features=512, bias=True)\n",
      "    (1): ReLU()\n",
      "    (2): Linear(in_features=512, out_features=512, bias=True)\n",
      "    (3): ReLU()\n",
      "    (4): Linear(in_features=512, out_features=10, bias=True)\n",
      "  )\n",
      ")\n"
     ]
    }
   ],
   "source": [
    "class MLP(nn.Module):\n",
    "    def __init__(self):\n",
    "        super().__init__()\n",
    "        self.flatten = nn.Flatten()\n",
    "        self.linear_stack = nn.Sequential(\n",
    "            nn.Linear(28*28, 512),\n",
    "            nn.ReLU(),\n",
    "            nn.Linear(512, 512),\n",
    "            nn.ReLU(),\n",
    "            nn.Linear(512, 10)\n",
    "        )\n",
    "    \n",
    "    def forward(self, batch):\n",
    "        flattened = self.flatten(batch)\n",
    "        logits = self.linear_stack(flattened)\n",
    "        return logits\n",
    "\n",
    "model = MLP()\n",
    "print(model)"
   ]
  },
  {
   "cell_type": "markdown",
   "metadata": {},
   "source": [
    "### Define loss function and optimizer\n",
    "Pytorch's [SGD](https://pytorch.org/docs/stable/generated/torch.optim.SGD.html)\n",
    "implementation differs from the conventional mathematical definition, which\n",
    "mlax follows.\n",
    "The mlax implementation of SGD is more similar to [Tensorflow's](https://www.tensorflow.org/api_docs/python/tf/keras/optimizers/SGD)."
   ]
  },
  {
   "cell_type": "code",
   "execution_count": 6,
   "metadata": {},
   "outputs": [],
   "source": [
    "cross_entropy = nn.CrossEntropyLoss()\n",
    "sgd = optim.SGD(model.parameters(), lr=5e-3, momentum=0.6)"
   ]
  },
  {
   "cell_type": "markdown",
   "metadata": {},
   "source": [
    "### Define training and testing loops"
   ]
  },
  {
   "cell_type": "code",
   "execution_count": 7,
   "metadata": {},
   "outputs": [],
   "source": [
    "def train(dataloader, model, loss_fn, optimizer, device):\n",
    "    model.to(device)\n",
    "    model.train()\n",
    "\n",
    "    train_loss = 0\n",
    "    for X, y in dataloader:\n",
    "        X, y = X.to(device), y.to(device)\n",
    "\n",
    "        loss = loss_fn(model(X), y)\n",
    "        train_loss += loss\n",
    "\n",
    "        optimizer.zero_grad()\n",
    "        loss.backward()\n",
    "        optimizer.step()\n",
    "\n",
    "    print(f\"Train loss: {train_loss / len(dataloader)}\")"
   ]
  },
  {
   "cell_type": "code",
   "execution_count": 8,
   "metadata": {},
   "outputs": [],
   "source": [
    "def test(dataloader, model, loss_fn, device):\n",
    "    model.to(device)\n",
    "    model.eval()\n",
    "\n",
    "    test_loss, accurate = 0, 0\n",
    "    with torch.no_grad():\n",
    "        for X, y in dataloader:\n",
    "            X, y = X.to(device), y.to(device)\n",
    "            pred = model(X)\n",
    "            test_loss += loss_fn(pred, y).item()\n",
    "            accurate += (pred.argmax(1) == y).type(torch.float).sum().item()\n",
    "    \n",
    "    print(f\"Test loss: {test_loss / len(dataloader)}, accuracy: {accurate / len(dataloader.dataset)}\")"
   ]
  },
  {
   "cell_type": "code",
   "execution_count": 9,
   "metadata": {},
   "outputs": [],
   "source": [
    "def train_loop(\n",
    "    train_dataloader,\n",
    "    test_dataloader,\n",
    "    model, loss_fn, optimizer,\n",
    "    device,\n",
    "    epochs, test_every):\n",
    "    for i in range(epochs):\n",
    "        epoch = (i + 1)\n",
    "        print(f\"Epoch {epoch}\\n----------------\")\n",
    "        train(train_dataloader, model, loss_fn, optimizer, device)\n",
    "        if (epoch % test_every == 0):\n",
    "            test(test_dataloader, model, loss_fn, device)\n",
    "        print(f\"----------------\")"
   ]
  },
  {
   "cell_type": "markdown",
   "metadata": {},
   "source": [
    "### Train MLP on MNIST dataset\n",
    "Achieves an accuracy of ~98% in ~4 minutes."
   ]
  },
  {
   "cell_type": "code",
   "execution_count": 10,
   "metadata": {},
   "outputs": [
    {
     "name": "stdout",
     "output_type": "stream",
     "text": [
      "Epoch 1\n",
      "----------------\n",
      "Train loss: 1.3777899742126465\n",
      "----------------\n",
      "Epoch 2\n",
      "----------------\n",
      "Train loss: 0.43444499373435974\n",
      "----------------\n",
      "Epoch 3\n",
      "----------------\n",
      "Train loss: 0.3439459204673767\n",
      "----------------\n",
      "Epoch 4\n",
      "----------------\n",
      "Train loss: 0.3045724630355835\n",
      "----------------\n",
      "Epoch 5\n",
      "----------------\n",
      "Train loss: 0.2771012485027313\n",
      "Test loss: 0.2571821173498775, accuracy: 0.9252\n",
      "----------------\n",
      "Epoch 6\n",
      "----------------\n",
      "Train loss: 0.25439509749412537\n",
      "----------------\n",
      "Epoch 7\n",
      "----------------\n",
      "Train loss: 0.2343655526638031\n",
      "----------------\n",
      "Epoch 8\n",
      "----------------\n",
      "Train loss: 0.21647438406944275\n",
      "----------------\n",
      "Epoch 9\n",
      "----------------\n",
      "Train loss: 0.20058171451091766\n",
      "----------------\n",
      "Epoch 10\n",
      "----------------\n",
      "Train loss: 0.18654023110866547\n",
      "Test loss: 0.178603809412901, accuracy: 0.9465\n",
      "----------------\n",
      "Epoch 11\n",
      "----------------\n",
      "Train loss: 0.1740572154521942\n",
      "----------------\n",
      "Epoch 12\n",
      "----------------\n",
      "Train loss: 0.1629309356212616\n",
      "----------------\n",
      "Epoch 13\n",
      "----------------\n",
      "Train loss: 0.15293337404727936\n",
      "----------------\n",
      "Epoch 14\n",
      "----------------\n",
      "Train loss: 0.1438591182231903\n",
      "----------------\n",
      "Epoch 15\n",
      "----------------\n",
      "Train loss: 0.13558343052864075\n",
      "Test loss: 0.13580478258745354, accuracy: 0.9598\n",
      "----------------\n",
      "Epoch 16\n",
      "----------------\n",
      "Train loss: 0.1279982328414917\n",
      "----------------\n",
      "Epoch 17\n",
      "----------------\n",
      "Train loss: 0.12106398493051529\n",
      "----------------\n",
      "Epoch 18\n",
      "----------------\n",
      "Train loss: 0.11466329544782639\n",
      "----------------\n",
      "Epoch 19\n",
      "----------------\n",
      "Train loss: 0.10874577611684799\n",
      "----------------\n",
      "Epoch 20\n",
      "----------------\n",
      "Train loss: 0.10324694961309433\n",
      "Test loss: 0.11105379826837118, accuracy: 0.9665\n",
      "----------------\n",
      "Epoch 21\n",
      "----------------\n",
      "Train loss: 0.0981326550245285\n",
      "----------------\n",
      "Epoch 22\n",
      "----------------\n",
      "Train loss: 0.09335757046937943\n",
      "----------------\n",
      "Epoch 23\n",
      "----------------\n",
      "Train loss: 0.08890342712402344\n",
      "----------------\n",
      "Epoch 24\n",
      "----------------\n",
      "Train loss: 0.08473187685012817\n",
      "----------------\n",
      "Epoch 25\n",
      "----------------\n",
      "Train loss: 0.08081139624118805\n",
      "Test loss: 0.09532525370069513, accuracy: 0.9706\n",
      "----------------\n",
      "Epoch 26\n",
      "----------------\n",
      "Train loss: 0.0771406888961792\n",
      "----------------\n",
      "Epoch 27\n",
      "----------------\n",
      "Train loss: 0.07370088249444962\n",
      "----------------\n",
      "Epoch 28\n",
      "----------------\n",
      "Train loss: 0.07045754790306091\n",
      "----------------\n",
      "Epoch 29\n",
      "----------------\n",
      "Train loss: 0.0674007460474968\n",
      "----------------\n",
      "Epoch 30\n",
      "----------------\n",
      "Train loss: 0.0645131841301918\n",
      "Test loss: 0.08476456974345337, accuracy: 0.9739\n",
      "----------------\n",
      "Epoch 31\n",
      "----------------\n",
      "Train loss: 0.06179392337799072\n",
      "----------------\n",
      "Epoch 32\n",
      "----------------\n",
      "Train loss: 0.05922091007232666\n",
      "----------------\n",
      "Epoch 33\n",
      "----------------\n",
      "Train loss: 0.056776173412799835\n",
      "----------------\n",
      "Epoch 34\n",
      "----------------\n",
      "Train loss: 0.05446958914399147\n",
      "----------------\n",
      "Epoch 35\n",
      "----------------\n",
      "Train loss: 0.05227700620889664\n",
      "Test loss: 0.07755117014511696, accuracy: 0.9757\n",
      "----------------\n",
      "Epoch 36\n",
      "----------------\n",
      "Train loss: 0.05020078271627426\n",
      "----------------\n",
      "Epoch 37\n",
      "----------------\n",
      "Train loss: 0.048219505697488785\n",
      "----------------\n",
      "Epoch 38\n",
      "----------------\n",
      "Train loss: 0.04634351655840874\n",
      "----------------\n",
      "Epoch 39\n",
      "----------------\n",
      "Train loss: 0.04455196484923363\n",
      "----------------\n",
      "Epoch 40\n",
      "----------------\n",
      "Train loss: 0.042847830802202225\n",
      "Test loss: 0.07264315898906125, accuracy: 0.9769\n",
      "----------------\n",
      "Epoch 41\n",
      "----------------\n",
      "Train loss: 0.04121870547533035\n",
      "----------------\n",
      "Epoch 42\n",
      "----------------\n",
      "Train loss: 0.03966468945145607\n",
      "----------------\n",
      "Epoch 43\n",
      "----------------\n",
      "Train loss: 0.03817574307322502\n",
      "----------------\n",
      "Epoch 44\n",
      "----------------\n",
      "Train loss: 0.036756016314029694\n",
      "----------------\n",
      "Epoch 45\n",
      "----------------\n",
      "Train loss: 0.03539818152785301\n",
      "Test loss: 0.06923670971886237, accuracy: 0.9779\n",
      "----------------\n",
      "Epoch 46\n",
      "----------------\n",
      "Train loss: 0.034102972596883774\n",
      "----------------\n",
      "Epoch 47\n",
      "----------------\n",
      "Train loss: 0.032856713980436325\n",
      "----------------\n",
      "Epoch 48\n",
      "----------------\n",
      "Train loss: 0.03166228532791138\n",
      "----------------\n",
      "Epoch 49\n",
      "----------------\n",
      "Train loss: 0.030510790646076202\n",
      "----------------\n",
      "Epoch 50\n",
      "----------------\n",
      "Train loss: 0.02942158281803131\n",
      "Test loss: 0.06697764458167396, accuracy: 0.9788\n",
      "----------------\n"
     ]
    }
   ],
   "source": [
    "train_loop(train_dataloader, test_dataloader, model, cross_entropy, sgd, device, 50, 5)"
   ]
  }
 ],
 "metadata": {
  "kernelspec": {
   "display_name": "Python 3.10.6 ('ML': venv)",
   "language": "python",
   "name": "python3"
  },
  "language_info": {
   "codemirror_mode": {
    "name": "ipython",
    "version": 3
   },
   "file_extension": ".py",
   "mimetype": "text/x-python",
   "name": "python",
   "nbconvert_exporter": "python",
   "pygments_lexer": "ipython3",
   "version": "3.10.6"
  },
  "orig_nbformat": 4,
  "vscode": {
   "interpreter": {
    "hash": "5c2eae4f387f48c6f060ba94db73f9ed1c3f6b20f388481d7647fcca09c0c17a"
   }
  }
 },
 "nbformat": 4,
 "nbformat_minor": 2
}
