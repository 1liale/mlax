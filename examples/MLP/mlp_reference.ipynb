{
 "cells": [
  {
   "cell_type": "markdown",
   "metadata": {},
   "source": [
    "# MLP Reference Implementation in Pytorch.\n",
    "\n",
    "This implementation is based on Pytorch's FashionMNIST example in its\n",
    "[quickstart](https://pytorch.org/tutorials/beginner/basics/quickstart_tutorial.html).\n",
    "\n",
    "See the mlax implementation in `mlp.ipynb` notebook."
   ]
  },
  {
   "cell_type": "code",
   "execution_count": 1,
   "metadata": {},
   "outputs": [],
   "source": [
    "import torch\n",
    "from torch import nn, optim\n",
    "from torch.utils.data import DataLoader\n",
    "import torchvision"
   ]
  },
  {
   "cell_type": "markdown",
   "metadata": {},
   "source": [
    "### Load the MNIST dataset."
   ]
  },
  {
   "cell_type": "code",
   "execution_count": 2,
   "metadata": {},
   "outputs": [
    {
     "name": "stdout",
     "output_type": "stream",
     "text": [
      "torch.Size([60000, 28, 28])\n",
      "torch.Size([10000, 28, 28])\n"
     ]
    }
   ],
   "source": [
    "mnist_train = torchvision.datasets.MNIST(\n",
    "    root=\"../data\",\n",
    "    train=True,\n",
    "    download=True,\n",
    "    transform=torchvision.transforms.ToTensor()\n",
    ")\n",
    "mnist_test = torchvision.datasets.MNIST(\n",
    "    root=\"../data\",\n",
    "    train=False,\n",
    "    download=True,\n",
    "    transform=torchvision.transforms.ToTensor()\n",
    ")\n",
    "print(mnist_train.data.shape)\n",
    "print(mnist_test.data.shape)"
   ]
  },
  {
   "cell_type": "markdown",
   "metadata": {},
   "source": [
    "### Batch the MNIST data with Pytorch dataloaders."
   ]
  },
  {
   "cell_type": "code",
   "execution_count": 3,
   "metadata": {},
   "outputs": [
    {
     "name": "stdout",
     "output_type": "stream",
     "text": [
      "469 79\n"
     ]
    }
   ],
   "source": [
    "# Note data is not shuffled\n",
    "batch_size = 128\n",
    "train_dataloader = DataLoader(mnist_train, batch_size, num_workers=8)\n",
    "test_dataloader = DataLoader(mnist_test, batch_size, num_workers=8)\n",
    "print(len(train_dataloader), len(test_dataloader))"
   ]
  },
  {
   "cell_type": "code",
   "execution_count": 4,
   "metadata": {},
   "outputs": [
    {
     "name": "stdout",
     "output_type": "stream",
     "text": [
      "cuda\n"
     ]
    }
   ],
   "source": [
    "device = \"cuda\" if torch.cuda.is_available() else \"cpu\"\n",
    "print(device)"
   ]
  },
  {
   "cell_type": "markdown",
   "metadata": {},
   "source": [
    "### Define MLP using modules.\n",
    "We jit-compiled the model for better performance."
   ]
  },
  {
   "cell_type": "code",
   "execution_count": 5,
   "metadata": {},
   "outputs": [
    {
     "name": "stdout",
     "output_type": "stream",
     "text": [
      "MLP(\n",
      "  (flatten): Flatten(start_dim=1, end_dim=-1)\n",
      "  (linear_stack): Sequential(\n",
      "    (0): Linear(in_features=784, out_features=512, bias=True)\n",
      "    (1): ReLU()\n",
      "    (2): Linear(in_features=512, out_features=512, bias=True)\n",
      "    (3): ReLU()\n",
      "    (4): Linear(in_features=512, out_features=10, bias=True)\n",
      "  )\n",
      ")\n"
     ]
    }
   ],
   "source": [
    "class MLP(nn.Module):\n",
    "    def __init__(self):\n",
    "        super().__init__()\n",
    "        self.flatten = nn.Flatten()\n",
    "        self.linear_stack = nn.Sequential(\n",
    "            nn.Linear(28*28, 512),\n",
    "            nn.ReLU(),\n",
    "            nn.Linear(512, 512),\n",
    "            nn.ReLU(),\n",
    "            nn.Linear(512, 10)\n",
    "        )\n",
    "    \n",
    "    def forward(self, batch):\n",
    "        flattened = self.flatten(batch)\n",
    "        logits = self.linear_stack(flattened)\n",
    "        return logits\n",
    "\n",
    "model = MLP()\n",
    "print(model)\n",
    "model = torch.jit.script(model)"
   ]
  },
  {
   "cell_type": "markdown",
   "metadata": {},
   "source": [
    "### Define loss function and optimizer.\n",
    "We also jit-compiled the loss function."
   ]
  },
  {
   "cell_type": "code",
   "execution_count": 6,
   "metadata": {},
   "outputs": [],
   "source": [
    "cross_entropy = torch.jit.script(nn.CrossEntropyLoss())\n",
    "sgd = optim.SGD(model.parameters(), lr=1e-2, momentum=0.9)"
   ]
  },
  {
   "cell_type": "markdown",
   "metadata": {},
   "source": [
    "### Define training and testing loops."
   ]
  },
  {
   "cell_type": "code",
   "execution_count": 7,
   "metadata": {},
   "outputs": [],
   "source": [
    "def train(dataloader, model, loss_fn, optimizer, device):\n",
    "    model.to(device)\n",
    "    model.train()\n",
    "\n",
    "    train_loss = 0\n",
    "    for X, y in dataloader:\n",
    "        X, y = X.to(device), y.to(device)\n",
    "        \n",
    "        loss = loss_fn(model(X), y)\n",
    "        train_loss += loss\n",
    "\n",
    "        optimizer.zero_grad()\n",
    "        loss.backward()\n",
    "        optimizer.step()\n",
    "\n",
    "    print(f\"Train loss: {train_loss / len(dataloader)}\")"
   ]
  },
  {
   "cell_type": "code",
   "execution_count": 8,
   "metadata": {},
   "outputs": [],
   "source": [
    "def test(dataloader, model, loss_fn, device):\n",
    "    model.to(device)\n",
    "    model.eval()\n",
    "\n",
    "    test_loss, accurate = 0, 0\n",
    "    with torch.no_grad():\n",
    "        for X, y in dataloader:\n",
    "            X, y = X.to(device), y.to(device)\n",
    "            pred = model(X)\n",
    "            test_loss += loss_fn(pred, y).item()\n",
    "            accurate += (pred.argmax(1) == y).type(torch.float).sum().item()\n",
    "    \n",
    "    print(f\"Test loss: {test_loss / len(dataloader)}, accuracy: {accurate / len(dataloader.dataset)}\")"
   ]
  },
  {
   "cell_type": "code",
   "execution_count": 9,
   "metadata": {},
   "outputs": [],
   "source": [
    "def train_loop(\n",
    "    train_dataloader,\n",
    "    test_dataloader,\n",
    "    model, loss_fn, optimizer,\n",
    "    device,\n",
    "    epochs, test_every):\n",
    "    for i in range(epochs):\n",
    "        epoch = (i + 1)\n",
    "        print(f\"Epoch {epoch}\\n----------------\")\n",
    "        train(train_dataloader, model, loss_fn, optimizer, device)\n",
    "        if (epoch % test_every == 0):\n",
    "            test(test_dataloader, model, loss_fn, device)\n",
    "        print(f\"----------------\")"
   ]
  },
  {
   "cell_type": "markdown",
   "metadata": {},
   "source": [
    "### Train MLP on MNIST dataset."
   ]
  },
  {
   "cell_type": "code",
   "execution_count": 10,
   "metadata": {},
   "outputs": [
    {
     "name": "stdout",
     "output_type": "stream",
     "text": [
      "Epoch 1\n",
      "----------------\n",
      "Train loss: 0.7004573345184326\n",
      "----------------\n",
      "Epoch 2\n",
      "----------------\n",
      "Train loss: 0.26600152254104614\n",
      "----------------\n",
      "Epoch 3\n",
      "----------------\n",
      "Train loss: 0.19463607668876648\n",
      "----------------\n",
      "Epoch 4\n",
      "----------------\n",
      "Train loss: 0.15034222602844238\n",
      "----------------\n",
      "Epoch 5\n",
      "----------------\n",
      "Train loss: 0.12108739465475082\n",
      "Test loss: 0.11384933800996529, accuracy: 0.9656\n",
      "----------------\n",
      "Epoch 6\n",
      "----------------\n",
      "Train loss: 0.10014381259679794\n",
      "----------------\n",
      "Epoch 7\n",
      "----------------\n",
      "Train loss: 0.08441047370433807\n",
      "----------------\n",
      "Epoch 8\n",
      "----------------\n",
      "Train loss: 0.07215268909931183\n",
      "----------------\n",
      "Epoch 9\n",
      "----------------\n",
      "Train loss: 0.06230989471077919\n",
      "----------------\n",
      "Epoch 10\n",
      "----------------\n",
      "Train loss: 0.05426366254687309\n",
      "Test loss: 0.080021977703871, accuracy: 0.9751\n",
      "----------------\n",
      "Epoch 11\n",
      "----------------\n",
      "Train loss: 0.047501400113105774\n",
      "----------------\n",
      "Epoch 12\n",
      "----------------\n",
      "Train loss: 0.04178662225604057\n",
      "----------------\n",
      "Epoch 13\n",
      "----------------\n",
      "Train loss: 0.03690634295344353\n",
      "----------------\n",
      "Epoch 14\n",
      "----------------\n",
      "Train loss: 0.03265267610549927\n",
      "----------------\n",
      "Epoch 15\n",
      "----------------\n",
      "Train loss: 0.02894549071788788\n",
      "Test loss: 0.071555872230431, accuracy: 0.9771\n",
      "----------------\n",
      "Epoch 16\n",
      "----------------\n",
      "Train loss: 0.025670694187283516\n",
      "----------------\n",
      "Epoch 17\n",
      "----------------\n",
      "Train loss: 0.022786559537053108\n",
      "----------------\n",
      "Epoch 18\n",
      "----------------\n",
      "Train loss: 0.020271142944693565\n",
      "----------------\n",
      "Epoch 19\n",
      "----------------\n",
      "Train loss: 0.0179885346442461\n",
      "----------------\n",
      "Epoch 20\n",
      "----------------\n",
      "Train loss: 0.016015002503991127\n",
      "Test loss: 0.06814739407947187, accuracy: 0.9788\n",
      "----------------\n",
      "Epoch 21\n",
      "----------------\n",
      "Train loss: 0.014242028817534447\n",
      "----------------\n",
      "Epoch 22\n",
      "----------------\n",
      "Train loss: 0.012697882950305939\n",
      "----------------\n",
      "Epoch 23\n",
      "----------------\n",
      "Train loss: 0.011310601606965065\n",
      "----------------\n",
      "Epoch 24\n",
      "----------------\n",
      "Train loss: 0.010079832747578621\n",
      "----------------\n",
      "Epoch 25\n",
      "----------------\n",
      "Train loss: 0.008953043259680271\n",
      "Test loss: 0.0683227029811273, accuracy: 0.9805\n",
      "----------------\n",
      "Epoch 26\n",
      "----------------\n",
      "Train loss: 0.007973678410053253\n",
      "----------------\n",
      "Epoch 27\n",
      "----------------\n",
      "Train loss: 0.007112788502126932\n",
      "----------------\n",
      "Epoch 28\n",
      "----------------\n",
      "Train loss: 0.006360671482980251\n",
      "----------------\n",
      "Epoch 29\n",
      "----------------\n",
      "Train loss: 0.005699528381228447\n",
      "----------------\n",
      "Epoch 30\n",
      "----------------\n",
      "Train loss: 0.005110942758619785\n",
      "Test loss: 0.06743749721133525, accuracy: 0.9817\n",
      "----------------\n"
     ]
    }
   ],
   "source": [
    "train_loop(train_dataloader, test_dataloader, model, cross_entropy, sgd, device, 30, 5)"
   ]
  }
 ],
 "metadata": {
  "kernelspec": {
   "display_name": "torch",
   "language": "python",
   "name": "python3"
  },
  "language_info": {
   "codemirror_mode": {
    "name": "ipython",
    "version": 3
   },
   "file_extension": ".py",
   "mimetype": "text/x-python",
   "name": "python",
   "nbconvert_exporter": "python",
   "pygments_lexer": "ipython3",
   "version": "3.10.6"
  },
  "orig_nbformat": 4,
  "vscode": {
   "interpreter": {
    "hash": "6c18ccd7e9828c22dd3d9e0895b6b7ede664ee7a11689b5790cfd0957405a6f2"
   }
  }
 },
 "nbformat": 4,
 "nbformat_minor": 2
}
