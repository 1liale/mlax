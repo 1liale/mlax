{
 "cells": [
  {
   "cell_type": "markdown",
   "metadata": {},
   "source": [
    "# MLP Reference Implementation in Pytorch.\n",
    "\n",
    "This implementation is based on Pytorch's FashionMNIST example in its\n",
    "[quickstart](https://pytorch.org/tutorials/beginner/basics/quickstart_tutorial.html).\n",
    "\n",
    "See the mlax implementation in `mlp.ipynb` notebook."
   ]
  },
  {
   "cell_type": "code",
   "execution_count": 1,
   "metadata": {},
   "outputs": [],
   "source": [
    "import torch\n",
    "from torch import nn, optim\n",
    "from torch.utils.data import DataLoader\n",
    "import torchvision"
   ]
  },
  {
   "cell_type": "markdown",
   "metadata": {},
   "source": [
    "### Load the MNIST dataset."
   ]
  },
  {
   "cell_type": "code",
   "execution_count": 2,
   "metadata": {},
   "outputs": [
    {
     "name": "stdout",
     "output_type": "stream",
     "text": [
      "torch.Size([60000, 28, 28])\n",
      "torch.Size([10000, 28, 28])\n"
     ]
    }
   ],
   "source": [
    "mnist_train = torchvision.datasets.MNIST(\n",
    "    root=\"../data\",\n",
    "    train=True,\n",
    "    download=True,\n",
    "    transform=torchvision.transforms.ToTensor()\n",
    ")\n",
    "mnist_test = torchvision.datasets.MNIST(\n",
    "    root=\"../data\",\n",
    "    train=False,\n",
    "    download=True,\n",
    "    transform=torchvision.transforms.ToTensor()\n",
    ")\n",
    "print(mnist_train.data.shape)\n",
    "print(mnist_test.data.shape)"
   ]
  },
  {
   "cell_type": "markdown",
   "metadata": {},
   "source": [
    "### Batch the MNIST data with Pytorch dataloaders."
   ]
  },
  {
   "cell_type": "code",
   "execution_count": 3,
   "metadata": {},
   "outputs": [
    {
     "name": "stdout",
     "output_type": "stream",
     "text": [
      "469 79\n"
     ]
    }
   ],
   "source": [
    "# Note data is not shuffled\n",
    "batch_size = 128\n",
    "train_dataloader = DataLoader(mnist_train, batch_size, num_workers=8)\n",
    "test_dataloader = DataLoader(mnist_test, batch_size, num_workers=8)\n",
    "print(len(train_dataloader), len(test_dataloader))"
   ]
  },
  {
   "cell_type": "code",
   "execution_count": 4,
   "metadata": {},
   "outputs": [
    {
     "name": "stdout",
     "output_type": "stream",
     "text": [
      "cuda\n"
     ]
    }
   ],
   "source": [
    "device = \"cuda\" if torch.cuda.is_available() else \"cpu\"\n",
    "print(device)"
   ]
  },
  {
   "cell_type": "markdown",
   "metadata": {},
   "source": [
    "### Define MLP using modules.\n",
    "We jit-compiled the model for better performance."
   ]
  },
  {
   "cell_type": "code",
   "execution_count": 5,
   "metadata": {},
   "outputs": [
    {
     "name": "stdout",
     "output_type": "stream",
     "text": [
      "MLP(\n",
      "  (flatten): Flatten(start_dim=1, end_dim=-1)\n",
      "  (linear_stack): Sequential(\n",
      "    (0): Linear(in_features=784, out_features=512, bias=True)\n",
      "    (1): ReLU()\n",
      "    (2): Linear(in_features=512, out_features=512, bias=True)\n",
      "    (3): ReLU()\n",
      "    (4): Linear(in_features=512, out_features=10, bias=True)\n",
      "  )\n",
      ")\n"
     ]
    }
   ],
   "source": [
    "class MLP(nn.Module):\n",
    "    def __init__(self):\n",
    "        super().__init__()\n",
    "        self.flatten = nn.Flatten()\n",
    "        self.linear_stack = nn.Sequential(\n",
    "            nn.Linear(28*28, 512),\n",
    "            nn.ReLU(),\n",
    "            nn.Linear(512, 512),\n",
    "            nn.ReLU(),\n",
    "            nn.Linear(512, 10)\n",
    "        )\n",
    "    \n",
    "    def forward(self, batch):\n",
    "        flattened = self.flatten(batch)\n",
    "        logits = self.linear_stack(flattened)\n",
    "        return logits\n",
    "\n",
    "model = MLP()\n",
    "print(model)\n",
    "model = torch.jit.script(model)"
   ]
  },
  {
   "cell_type": "markdown",
   "metadata": {},
   "source": [
    "### Define loss function and optimizer.\n",
    "We also jit-compiled the loss function."
   ]
  },
  {
   "cell_type": "code",
   "execution_count": 6,
   "metadata": {},
   "outputs": [],
   "source": [
    "cross_entropy = torch.jit.script(nn.CrossEntropyLoss())\n",
    "sgd = optim.SGD(model.parameters(), lr=1e-2, momentum=0.9)"
   ]
  },
  {
   "cell_type": "markdown",
   "metadata": {},
   "source": [
    "### Define training and testing loops."
   ]
  },
  {
   "cell_type": "code",
   "execution_count": 7,
   "metadata": {},
   "outputs": [],
   "source": [
    "def train(dataloader, model, loss_fn, optimizer, device):\n",
    "    model.to(device)\n",
    "    model.train()\n",
    "\n",
    "    train_loss = 0\n",
    "    for X, y in dataloader:\n",
    "        X, y = X.to(device), y.to(device)\n",
    "        \n",
    "        loss = loss_fn(model(X), y)\n",
    "        train_loss += loss\n",
    "\n",
    "        optimizer.zero_grad()\n",
    "        loss.backward()\n",
    "        optimizer.step()\n",
    "\n",
    "    print(f\"Train loss: {train_loss / len(dataloader)}\")"
   ]
  },
  {
   "cell_type": "code",
   "execution_count": 8,
   "metadata": {},
   "outputs": [],
   "source": [
    "def test(dataloader, model, loss_fn, device):\n",
    "    model.to(device)\n",
    "    model.eval()\n",
    "\n",
    "    test_loss, accurate = 0, 0\n",
    "    with torch.no_grad():\n",
    "        for X, y in dataloader:\n",
    "            X, y = X.to(device), y.to(device)\n",
    "            pred = model(X)\n",
    "            test_loss += loss_fn(pred, y).item()\n",
    "            accurate += (pred.argmax(1) == y).type(torch.float).sum().item()\n",
    "    \n",
    "    print(f\"Test loss: {test_loss / len(dataloader)}, accuracy: {accurate / len(dataloader.dataset)}\")"
   ]
  },
  {
   "cell_type": "code",
   "execution_count": 9,
   "metadata": {},
   "outputs": [],
   "source": [
    "def train_loop(\n",
    "    train_dataloader,\n",
    "    test_dataloader,\n",
    "    model, loss_fn, optimizer,\n",
    "    device,\n",
    "    epochs, test_every):\n",
    "    for i in range(epochs):\n",
    "        epoch = (i + 1)\n",
    "        print(f\"Epoch {epoch}\\n----------------\")\n",
    "        train(train_dataloader, model, loss_fn, optimizer, device)\n",
    "        if (epoch % test_every == 0):\n",
    "            test(test_dataloader, model, loss_fn, device)\n",
    "        print(f\"----------------\")"
   ]
  },
  {
   "cell_type": "markdown",
   "metadata": {},
   "source": [
    "### Train MLP on MNIST dataset."
   ]
  },
  {
   "cell_type": "code",
   "execution_count": 10,
   "metadata": {},
   "outputs": [
    {
     "name": "stdout",
     "output_type": "stream",
     "text": [
      "Epoch 1\n",
      "----------------\n",
      "Train loss: 0.7109424471855164\n",
      "----------------\n",
      "Epoch 2\n",
      "----------------\n",
      "Train loss: 0.26368826627731323\n",
      "----------------\n",
      "Epoch 3\n",
      "----------------\n",
      "Train loss: 0.194171741604805\n",
      "----------------\n",
      "Epoch 4\n",
      "----------------\n",
      "Train loss: 0.1505279839038849\n",
      "----------------\n",
      "Epoch 5\n",
      "----------------\n",
      "Train loss: 0.12080542743206024\n",
      "Test loss: 0.1153267925381189, accuracy: 0.9641\n",
      "----------------\n",
      "Epoch 6\n",
      "----------------\n",
      "Train loss: 0.09956001490354538\n",
      "----------------\n",
      "Epoch 7\n",
      "----------------\n",
      "Train loss: 0.08377344161272049\n",
      "----------------\n",
      "Epoch 8\n",
      "----------------\n",
      "Train loss: 0.07148087024688721\n",
      "----------------\n",
      "Epoch 9\n",
      "----------------\n",
      "Train loss: 0.06166663393378258\n",
      "----------------\n",
      "Epoch 10\n",
      "----------------\n",
      "Train loss: 0.05374901369214058\n",
      "Test loss: 0.08010849267129397, accuracy: 0.9752\n",
      "----------------\n",
      "Epoch 11\n",
      "----------------\n",
      "Train loss: 0.047161899507045746\n",
      "----------------\n",
      "Epoch 12\n",
      "----------------\n",
      "Train loss: 0.04158683121204376\n",
      "----------------\n",
      "Epoch 13\n",
      "----------------\n",
      "Train loss: 0.03679554909467697\n",
      "----------------\n",
      "Epoch 14\n",
      "----------------\n",
      "Train loss: 0.032554104924201965\n",
      "----------------\n",
      "Epoch 15\n",
      "----------------\n",
      "Train loss: 0.028822291642427444\n",
      "Test loss: 0.07081514087879937, accuracy: 0.9778\n",
      "----------------\n",
      "Epoch 16\n",
      "----------------\n",
      "Train loss: 0.025486255064606667\n",
      "----------------\n",
      "Epoch 17\n",
      "----------------\n",
      "Train loss: 0.02255079336464405\n",
      "----------------\n",
      "Epoch 18\n",
      "----------------\n",
      "Train loss: 0.01995619386434555\n",
      "----------------\n",
      "Epoch 19\n",
      "----------------\n",
      "Train loss: 0.01766873337328434\n",
      "----------------\n",
      "Epoch 20\n",
      "----------------\n",
      "Train loss: 0.01570376753807068\n",
      "Test loss: 0.06697538320735522, accuracy: 0.9799\n",
      "----------------\n",
      "Epoch 21\n",
      "----------------\n",
      "Train loss: 0.013895443640649319\n",
      "----------------\n",
      "Epoch 22\n",
      "----------------\n",
      "Train loss: 0.012338156811892986\n",
      "----------------\n",
      "Epoch 23\n",
      "----------------\n",
      "Train loss: 0.01096325647085905\n",
      "----------------\n",
      "Epoch 24\n",
      "----------------\n",
      "Train loss: 0.009721403010189533\n",
      "----------------\n",
      "Epoch 25\n",
      "----------------\n",
      "Train loss: 0.008647863753139973\n",
      "Test loss: 0.06643566125702692, accuracy: 0.9809\n",
      "----------------\n",
      "Epoch 26\n",
      "----------------\n",
      "Train loss: 0.007708545308560133\n",
      "----------------\n",
      "Epoch 27\n",
      "----------------\n",
      "Train loss: 0.006878694053739309\n",
      "----------------\n",
      "Epoch 28\n",
      "----------------\n",
      "Train loss: 0.006164832506328821\n",
      "----------------\n",
      "Epoch 29\n",
      "----------------\n",
      "Train loss: 0.0055263349786400795\n",
      "----------------\n",
      "Epoch 30\n",
      "----------------\n",
      "Train loss: 0.004983362276107073\n",
      "Test loss: 0.06672484976818079, accuracy: 0.9817\n",
      "----------------\n"
     ]
    }
   ],
   "source": [
    "train_loop(train_dataloader, test_dataloader, model, cross_entropy, sgd, device, 30, 5)"
   ]
  }
 ],
 "metadata": {
  "kernelspec": {
   "display_name": "torch",
   "language": "python",
   "name": "python3"
  },
  "language_info": {
   "codemirror_mode": {
    "name": "ipython",
    "version": 3
   },
   "file_extension": ".py",
   "mimetype": "text/x-python",
   "name": "python",
   "nbconvert_exporter": "python",
   "pygments_lexer": "ipython3",
   "version": "3.10.6"
  },
  "orig_nbformat": 4,
  "vscode": {
   "interpreter": {
    "hash": "6c18ccd7e9828c22dd3d9e0895b6b7ede664ee7a11689b5790cfd0957405a6f2"
   }
  }
 },
 "nbformat": 4,
 "nbformat_minor": 2
}
