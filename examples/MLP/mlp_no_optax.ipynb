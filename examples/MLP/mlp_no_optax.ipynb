{
 "cells": [
  {
   "attachments": {},
   "cell_type": "markdown",
   "metadata": {},
   "source": [
    "# MLP Implementation in mlax without Optax optimizers.\n",
    "This notebook just uses the `mlax` package.\n",
    "\n",
    "You can view the Pytorch reference implementation in `mlp_reference.ipynb`."
   ]
  },
  {
   "cell_type": "code",
   "execution_count": 1,
   "metadata": {},
   "outputs": [],
   "source": [
    "import jax\n",
    "from jax import (\n",
    "    numpy as jnp,\n",
    "    nn,\n",
    "    random\n",
    ")\n",
    "import numpy as np\n",
    "from functools import partial\n",
    "import torchvision\n",
    "from torch.utils.data import DataLoader"
   ]
  },
  {
   "cell_type": "code",
   "execution_count": 2,
   "metadata": {},
   "outputs": [],
   "source": [
    "from mlax import Module\n",
    "from mlax.nn import Series, Linear, Bias, F"
   ]
  },
  {
   "cell_type": "code",
   "execution_count": 3,
   "metadata": {},
   "outputs": [],
   "source": [
    "# Local python file containing an SGD optimizer written in JAX.\n",
    "from optim import (\n",
    "    sparse_categorical_crossentropy,\n",
    "    sgd_init,\n",
    "    sgd_step,\n",
    "    apply_updates\n",
    ")"
   ]
  },
  {
   "attachments": {},
   "cell_type": "markdown",
   "metadata": {},
   "source": [
    "### Load in and batch the MNIST datasets.\n",
    "We follow this example\n",
    "[Training a Simple Neural Network, with PyTorch Data Loading](https://jax.readthedocs.io/en/latest/notebooks/Neural_Network_and_Data_Loading.html) in using Pytorch dataloaders."
   ]
  },
  {
   "cell_type": "code",
   "execution_count": 4,
   "metadata": {},
   "outputs": [
    {
     "name": "stdout",
     "output_type": "stream",
     "text": [
      "torch.Size([60000, 28, 28])\n",
      "torch.Size([10000, 28, 28])\n"
     ]
    }
   ],
   "source": [
    "class ToNumpy:\n",
    "  def __call__(self, pic):\n",
    "    return np.array(pic)\n",
    "\n",
    "mnist_train = torchvision.datasets.MNIST(\n",
    "    root=\"../data\",\n",
    "    train=True,\n",
    "    download=True,\n",
    "    transform=ToNumpy()\n",
    ")\n",
    "mnist_test = torchvision.datasets.MNIST(\n",
    "    root=\"../data\",\n",
    "    train=False,\n",
    "    download=True,\n",
    "    transform=ToNumpy()\n",
    ")\n",
    "print(mnist_train.data.shape)\n",
    "print(mnist_test.data.shape)"
   ]
  },
  {
   "cell_type": "code",
   "execution_count": 5,
   "metadata": {},
   "outputs": [
    {
     "name": "stdout",
     "output_type": "stream",
     "text": [
      "469 79\n"
     ]
    }
   ],
   "source": [
    "def numpy_collate(batch):\n",
    "  if isinstance(batch[0], np.ndarray):\n",
    "    return np.stack(batch)\n",
    "  elif isinstance(batch[0], (tuple,list)):\n",
    "    transposed = zip(*batch)\n",
    "    return [numpy_collate(samples) for samples in transposed]\n",
    "  else:\n",
    "    return np.array(batch)\n",
    "\n",
    "batch_size=128\n",
    "train_dataloader = DataLoader(\n",
    "    mnist_train, batch_size=128, shuffle=True, collate_fn=numpy_collate, num_workers=6\n",
    ")\n",
    "test_dataloader = DataLoader(\n",
    "    mnist_test, batch_size=128, shuffle=True, collate_fn=numpy_collate, num_workers=6\n",
    ")\n",
    "print(len(train_dataloader), len(test_dataloader))"
   ]
  },
  {
   "attachments": {},
   "cell_type": "markdown",
   "metadata": {},
   "source": [
    "## Build MLP using `mlax.module`"
   ]
  },
  {
   "cell_type": "code",
   "execution_count": 6,
   "metadata": {},
   "outputs": [
    {
     "name": "stdout",
     "output_type": "stream",
     "text": [
      "(128, 10)\n"
     ]
    }
   ],
   "source": [
    "class MLP(Module):\n",
    "    def __init__(self, rng):\n",
    "        super().__init__()\n",
    "        rngs_iter = iter(random.split(rng, 6))\n",
    "\n",
    "        self.linear1 = Series([\n",
    "            Linear(next(rngs_iter), out_features=512),\n",
    "            Bias(next(rngs_iter), in_features=512),\n",
    "            F(nn.relu)\n",
    "        ])\n",
    "\n",
    "        self.linear2 = Series([\n",
    "            Linear(next(rngs_iter), out_features=512),\n",
    "            Bias(next(rngs_iter), in_features=512),\n",
    "            F(nn.relu)\n",
    "        ])\n",
    "\n",
    "        self.linear3 = Series([\n",
    "            Linear(next(rngs_iter), out_features=10),\n",
    "            Bias(next(rngs_iter), in_features=10),\n",
    "            F(nn.softmax)\n",
    "        ])\n",
    "\n",
    "    @partial(\n",
    "        jax.vmap,\n",
    "        in_axes = (None, 0, None, None),\n",
    "        out_axes = (0, None),\n",
    "        axis_name = \"batch\"\n",
    "    ) # Add leading batch dimension\n",
    "    def __call__(self, x, rng=None, inference_mode=False):\n",
    "        x = jnp.reshape(x.astype(jnp.float32) / 255.0, (-1,)) # Flatten and scale\n",
    "        x, self.linear1 = self.linear1(x, rng=None, inference_mode=inference_mode)\n",
    "        x, self.linear2 = self.linear2(x, rng=None, inference_mode=inference_mode)\n",
    "        x, self.linear3 = self.linear3(x, rng=None, inference_mode=inference_mode)\n",
    "        return x, self\n",
    "\n",
    "model = MLP(random.PRNGKey(0))\n",
    "\n",
    "# Induce lazy weight initialization\n",
    "for x_batch, y_batch in train_dataloader:\n",
    "    acts, model = model(x_batch, None, False)\n",
    "    print(acts.shape)\n",
    "    break"
   ]
  },
  {
   "attachments": {},
   "cell_type": "markdown",
   "metadata": {},
   "source": [
    "### Define loss function."
   ]
  },
  {
   "cell_type": "code",
   "execution_count": 7,
   "metadata": {},
   "outputs": [],
   "source": [
    "loss_fn = sparse_categorical_crossentropy"
   ]
  },
  {
   "attachments": {},
   "cell_type": "markdown",
   "metadata": {},
   "source": [
    "We define two convenience functions.\n",
    "\n",
    "``model_training_loss`` returns the batch loss and updated `model` from batched\n",
    "inputs and targets.\n",
    "\n",
    "``model_inference_preds_loss`` returns the batch loss and predictions from\n",
    "batched inputs and targets."
   ]
  },
  {
   "cell_type": "code",
   "execution_count": 8,
   "metadata": {},
   "outputs": [],
   "source": [
    "def model_training_loss(\n",
    "    x_batch: np.array,\n",
    "    y_batch: np.array,\n",
    "    model,\n",
    "    trainables\n",
    "):\n",
    "    model = model.load_trainables(trainables)\n",
    "    preds, model = model(x_batch, None, False)\n",
    "    return loss_fn(preds, y_batch), model\n",
    "\n",
    "@jax.jit\n",
    "def model_inference_loss(\n",
    "    x_batch: np.array,\n",
    "    y_batch: np.array,\n",
    "    model\n",
    "):\n",
    "    preds, _ = model(x_batch, None, True)\n",
    "    return loss_fn(preds, y_batch), preds"
   ]
  },
  {
   "attachments": {},
   "cell_type": "markdown",
   "metadata": {},
   "source": [
    "### Define optimizer."
   ]
  },
  {
   "cell_type": "code",
   "execution_count": 9,
   "metadata": {},
   "outputs": [],
   "source": [
    "optim_state = sgd_init(model.trainables)"
   ]
  },
  {
   "attachments": {},
   "cell_type": "markdown",
   "metadata": {},
   "source": [
    "### Define training step."
   ]
  },
  {
   "cell_type": "code",
   "execution_count": 10,
   "metadata": {},
   "outputs": [],
   "source": [
    "@jax.jit\n",
    "def train_step(\n",
    "    x_batch: np.array, \n",
    "    y_batch: np.array,\n",
    "    model,\n",
    "    optim_state\n",
    "):\n",
    "    # Find batch loss and gradients with resect to trainables\n",
    "    (loss, model), gradients = jax.value_and_grad(\n",
    "        model_training_loss,\n",
    "        argnums=3, # gradients wrt trainables (argument 3 of model_training_loss)\n",
    "        has_aux=True # model is auxiliary data, loss is the true ouput\n",
    "    )(x_batch, y_batch, model, model.trainables)\n",
    "\n",
    "    # Get new gradients and optimizer state\n",
    "    gradients, optim_state = sgd_step(\n",
    "        gradients, optim_state, lr=1e-2, momentum=0.9\n",
    "    )\n",
    "\n",
    "    # Update model_weights with new gradients\n",
    "    trainables = apply_updates(gradients, model.trainables)\n",
    "    return loss, model.load_trainables(trainables), optim_state"
   ]
  },
  {
   "attachments": {},
   "cell_type": "markdown",
   "metadata": {},
   "source": [
    "### Define functions for training and testing loops."
   ]
  },
  {
   "cell_type": "code",
   "execution_count": 11,
   "metadata": {},
   "outputs": [],
   "source": [
    "def train_epoch(\n",
    "    dataloader,\n",
    "    model,\n",
    "    optim_state\n",
    "):\n",
    "    num_batches = len(dataloader)\n",
    "    train_loss = 0.0\n",
    "    for x_batch, y_batch in dataloader:\n",
    "        loss, model, optim_state = train_step(\n",
    "            x_batch, y_batch,\n",
    "            model,\n",
    "            optim_state\n",
    "        )\n",
    "        train_loss += loss\n",
    "\n",
    "    print(f\"Train loss: {train_loss / num_batches}\") \n",
    "    return model, optim_state"
   ]
  },
  {
   "cell_type": "code",
   "execution_count": 12,
   "metadata": {},
   "outputs": [],
   "source": [
    "def test(\n",
    "    dataloader,\n",
    "    model\n",
    "):\n",
    "    num_batches = len(dataloader)\n",
    "    test_loss, accuracy = 0, 0.0\n",
    "    for x_batch, y_batch in dataloader:\n",
    "        loss, preds = model_inference_loss(\n",
    "            x_batch, y_batch, model\n",
    "        )\n",
    "        test_loss += loss\n",
    "        accuracy += (jnp.argmax(preds, axis=1) == y_batch).sum() / len(x_batch)\n",
    "    \n",
    "    print(f\"Test loss: {test_loss / num_batches}, accuracy: {accuracy / num_batches}\")"
   ]
  },
  {
   "cell_type": "code",
   "execution_count": 13,
   "metadata": {},
   "outputs": [],
   "source": [
    "def train_loop(\n",
    "    train_dataloader,\n",
    "    test_dataloader,\n",
    "    model,\n",
    "    optim_state,\n",
    "    epochs, test_every\n",
    "):\n",
    "    for i in range(epochs):\n",
    "        epoch = i + 1\n",
    "        print(f\"Epoch {epoch}\\n----------------\")\n",
    "        model, optim_state = train_epoch(\n",
    "            train_dataloader,\n",
    "            model,\n",
    "            optim_state\n",
    "        )\n",
    "        if (epoch % test_every == 0):\n",
    "            test(test_dataloader, model)\n",
    "        print(f\"----------------\")\n",
    "    \n",
    "    return model, optim_state"
   ]
  },
  {
   "attachments": {},
   "cell_type": "markdown",
   "metadata": {},
   "source": [
    "## Train MLP on the MNIST dataset."
   ]
  },
  {
   "cell_type": "code",
   "execution_count": 14,
   "metadata": {},
   "outputs": [
    {
     "name": "stdout",
     "output_type": "stream",
     "text": [
      "Epoch 1\n",
      "----------------\n",
      "Train loss: 0.44252684712409973\n",
      "----------------\n",
      "Epoch 2\n",
      "----------------\n",
      "Train loss: 0.19888873398303986\n",
      "----------------\n",
      "Epoch 3\n",
      "----------------\n",
      "Train loss: 0.14479871094226837\n",
      "----------------\n",
      "Epoch 4\n",
      "----------------\n",
      "Train loss: 0.11203312128782272\n",
      "----------------\n",
      "Epoch 5\n",
      "----------------\n",
      "Train loss: 0.09040975570678711\n",
      "Test loss: 0.0990489050745964, accuracy: 0.9703323245048523\n",
      "----------------\n",
      "Epoch 6\n",
      "----------------\n",
      "Train loss: 0.07537496834993362\n",
      "----------------\n",
      "Epoch 7\n",
      "----------------\n",
      "Train loss: 0.06405700743198395\n",
      "----------------\n",
      "Epoch 8\n",
      "----------------\n",
      "Train loss: 0.05468873679637909\n",
      "----------------\n",
      "Epoch 9\n",
      "----------------\n",
      "Train loss: 0.04696766287088394\n",
      "----------------\n",
      "Epoch 10\n",
      "----------------\n",
      "Train loss: 0.04060396924614906\n",
      "Test loss: 0.07196811586618423, accuracy: 0.9769580960273743\n",
      "----------------\n",
      "Epoch 11\n",
      "----------------\n",
      "Train loss: 0.03543463721871376\n",
      "----------------\n",
      "Epoch 12\n",
      "----------------\n",
      "Train loss: 0.030744750052690506\n",
      "----------------\n",
      "Epoch 13\n",
      "----------------\n",
      "Train loss: 0.027187496423721313\n",
      "----------------\n",
      "Epoch 14\n",
      "----------------\n",
      "Train loss: 0.023404395207762718\n",
      "----------------\n",
      "Epoch 15\n",
      "----------------\n",
      "Train loss: 0.020384255796670914\n",
      "Test loss: 0.06288652867078781, accuracy: 0.9804193377494812\n",
      "----------------\n",
      "Epoch 16\n",
      "----------------\n",
      "Train loss: 0.017745185643434525\n",
      "----------------\n",
      "Epoch 17\n",
      "----------------\n",
      "Train loss: 0.015403580851852894\n",
      "----------------\n",
      "Epoch 18\n",
      "----------------\n",
      "Train loss: 0.013675011694431305\n",
      "----------------\n",
      "Epoch 19\n",
      "----------------\n",
      "Train loss: 0.011732174083590508\n",
      "----------------\n",
      "Epoch 20\n",
      "----------------\n",
      "Train loss: 0.010372360236942768\n",
      "Test loss: 0.0652819573879242, accuracy: 0.9802215695381165\n",
      "----------------\n",
      "Epoch 21\n",
      "----------------\n",
      "Train loss: 0.009123909287154675\n",
      "----------------\n",
      "Epoch 22\n",
      "----------------\n",
      "Train loss: 0.008024160750210285\n",
      "----------------\n",
      "Epoch 23\n",
      "----------------\n",
      "Train loss: 0.007325261365622282\n",
      "----------------\n",
      "Epoch 24\n",
      "----------------\n",
      "Train loss: 0.006568209733814001\n",
      "----------------\n",
      "Epoch 25\n",
      "----------------\n",
      "Train loss: 0.0059107206761837006\n",
      "Test loss: 0.0660359263420105, accuracy: 0.9799248576164246\n",
      "----------------\n",
      "Epoch 26\n",
      "----------------\n",
      "Train loss: 0.005375733599066734\n",
      "----------------\n",
      "Epoch 27\n",
      "----------------\n",
      "Train loss: 0.004897895734757185\n",
      "----------------\n",
      "Epoch 28\n",
      "----------------\n",
      "Train loss: 0.004424996208399534\n",
      "----------------\n",
      "Epoch 29\n",
      "----------------\n",
      "Train loss: 0.004029094707220793\n",
      "----------------\n",
      "Epoch 30\n",
      "----------------\n",
      "Train loss: 0.003794186981394887\n",
      "Test loss: 0.06306978315114975, accuracy: 0.9815071225166321\n",
      "----------------\n"
     ]
    }
   ],
   "source": [
    "new_model, new_optim_state = train_loop(\n",
    "    train_dataloader,\n",
    "    test_dataloader,\n",
    "    model,\n",
    "    optim_state,\n",
    "    30, 5\n",
    ")"
   ]
  }
 ],
 "metadata": {
  "kernelspec": {
   "display_name": "mlax",
   "language": "python",
   "name": "python3"
  },
  "language_info": {
   "codemirror_mode": {
    "name": "ipython",
    "version": 3
   },
   "file_extension": ".py",
   "mimetype": "text/x-python",
   "name": "python",
   "nbconvert_exporter": "python",
   "pygments_lexer": "ipython3",
   "version": "3.10.6"
  },
  "orig_nbformat": 4,
  "vscode": {
   "interpreter": {
    "hash": "7c3d7272c1eba356ec9149ec42daf5acdf55d6fdb447aefce6509807a5e73802"
   }
  }
 },
 "nbformat": 4,
 "nbformat_minor": 2
}
