{
 "cells": [
  {
   "attachments": {},
   "cell_type": "markdown",
   "metadata": {},
   "source": [
    "# CIFAR-10 ResNet Reference Implementation in Pytorch.\n",
    "See the mlax implementation in `resnet.ipynb` notebook."
   ]
  },
  {
   "cell_type": "code",
   "execution_count": 1,
   "metadata": {},
   "outputs": [],
   "source": [
    "import torch\n",
    "from torch import nn, optim\n",
    "from torch.utils.data import DataLoader\n",
    "import torchvision"
   ]
  },
  {
   "attachments": {},
   "cell_type": "markdown",
   "metadata": {},
   "source": [
    "### Load the CIFAR-10 dataset."
   ]
  },
  {
   "cell_type": "code",
   "execution_count": 2,
   "metadata": {},
   "outputs": [
    {
     "name": "stdout",
     "output_type": "stream",
     "text": [
      "Files already downloaded and verified\n",
      "Files already downloaded and verified\n",
      "(50000, 32, 32, 3)\n",
      "(10000, 32, 32, 3)\n"
     ]
    }
   ],
   "source": [
    "cifar_train = torchvision.datasets.CIFAR10(\n",
    "    root=\"../data\",\n",
    "    train=True,\n",
    "    download=True,\n",
    "    transform = torchvision.transforms.Compose([\n",
    "    torchvision.transforms.AutoAugment(),\n",
    "    torchvision.transforms.ToTensor()\n",
    "])\n",
    ")\n",
    "cifar_test = torchvision.datasets.CIFAR10(\n",
    "    root=\"../data\",\n",
    "    train=False,\n",
    "    download=True,\n",
    "    transform=torchvision.transforms.ToTensor()\n",
    ")\n",
    "print(cifar_train.data.shape)\n",
    "print(cifar_test.data.shape)"
   ]
  },
  {
   "attachments": {},
   "cell_type": "markdown",
   "metadata": {},
   "source": [
    "### Batch the MNIST data with Pytorch dataloaders."
   ]
  },
  {
   "cell_type": "code",
   "execution_count": 3,
   "metadata": {},
   "outputs": [
    {
     "name": "stdout",
     "output_type": "stream",
     "text": [
      "391 79\n"
     ]
    }
   ],
   "source": [
    "batch_size = 128\n",
    "train_dataloader = DataLoader(cifar_train, batch_size, shuffle=True, num_workers=6)\n",
    "test_dataloader = DataLoader(cifar_test, batch_size, num_workers=6)\n",
    "print(len(train_dataloader), len(test_dataloader))"
   ]
  },
  {
   "cell_type": "code",
   "execution_count": 4,
   "metadata": {},
   "outputs": [
    {
     "name": "stdout",
     "output_type": "stream",
     "text": [
      "cuda\n"
     ]
    }
   ],
   "source": [
    "device = \"cuda\" if torch.cuda.is_available() else \"cpu\"\n",
    "print(device)"
   ]
  },
  {
   "attachments": {},
   "cell_type": "markdown",
   "metadata": {},
   "source": [
    "### Define ResNet using modules."
   ]
  },
  {
   "cell_type": "code",
   "execution_count": 5,
   "metadata": {},
   "outputs": [
    {
     "name": "stdout",
     "output_type": "stream",
     "text": [
      "ResNet(\n",
      "  (conv1): Sequential(\n",
      "    (0): Conv2d(3, 16, kernel_size=(3, 3), stride=(1, 1), padding=(1, 1))\n",
      "    (1): BatchNorm2d(16, eps=1e-05, momentum=0.1, affine=True, track_running_stats=True)\n",
      "    (2): ReLU(inplace=True)\n",
      "  )\n",
      "  (res1): ResBlock1(\n",
      "    (block): Sequential(\n",
      "      (0): Conv2d(16, 16, kernel_size=(3, 3), stride=(1, 1), padding=(1, 1), bias=False)\n",
      "      (1): BatchNorm2d(16, eps=1e-05, momentum=0.1, affine=True, track_running_stats=True)\n",
      "      (2): ReLU(inplace=True)\n",
      "      (3): Conv2d(16, 16, kernel_size=(3, 3), stride=(1, 1), padding=(1, 1), bias=False)\n",
      "      (4): BatchNorm2d(16, eps=1e-05, momentum=0.1, affine=True, track_running_stats=True)\n",
      "      (5): ReLU(inplace=True)\n",
      "    )\n",
      "  )\n",
      "  (res2): ResBlock2(\n",
      "    (block): Sequential(\n",
      "      (0): Conv2d(16, 32, kernel_size=(3, 3), stride=(2, 2), padding=(1, 1), bias=False)\n",
      "      (1): BatchNorm2d(32, eps=1e-05, momentum=0.1, affine=True, track_running_stats=True)\n",
      "      (2): ReLU(inplace=True)\n",
      "      (3): Conv2d(32, 32, kernel_size=(3, 3), stride=(1, 1), padding=(1, 1), bias=False)\n",
      "      (4): BatchNorm2d(32, eps=1e-05, momentum=0.1, affine=True, track_running_stats=True)\n",
      "      (5): ReLU(inplace=True)\n",
      "    )\n",
      "    (downsample): Sequential(\n",
      "      (0): Conv2d(16, 32, kernel_size=(3, 3), stride=(2, 2), padding=(1, 1), bias=False)\n",
      "      (1): BatchNorm2d(32, eps=1e-05, momentum=0.1, affine=True, track_running_stats=True)\n",
      "      (2): ReLU(inplace=True)\n",
      "    )\n",
      "  )\n",
      "  (res3): ResBlock2(\n",
      "    (block): Sequential(\n",
      "      (0): Conv2d(32, 64, kernel_size=(3, 3), stride=(2, 2), padding=(1, 1), bias=False)\n",
      "      (1): BatchNorm2d(64, eps=1e-05, momentum=0.1, affine=True, track_running_stats=True)\n",
      "      (2): ReLU(inplace=True)\n",
      "      (3): Conv2d(64, 64, kernel_size=(3, 3), stride=(1, 1), padding=(1, 1), bias=False)\n",
      "      (4): BatchNorm2d(64, eps=1e-05, momentum=0.1, affine=True, track_running_stats=True)\n",
      "      (5): ReLU(inplace=True)\n",
      "    )\n",
      "    (downsample): Sequential(\n",
      "      (0): Conv2d(32, 64, kernel_size=(3, 3), stride=(2, 2), padding=(1, 1), bias=False)\n",
      "      (1): BatchNorm2d(64, eps=1e-05, momentum=0.1, affine=True, track_running_stats=True)\n",
      "      (2): ReLU(inplace=True)\n",
      "    )\n",
      "  )\n",
      "  (avg_pool): AdaptiveAvgPool2d(output_size=(1, 1))\n",
      "  (flatten): Flatten(start_dim=1, end_dim=-1)\n",
      "  (fc): Linear(in_features=64, out_features=10, bias=True)\n",
      ")\n"
     ]
    }
   ],
   "source": [
    "# Residual block without downsampling (N, C, H, W) -> (N, C, H, W)\n",
    "class ResBlock1(nn.Module):\n",
    "    def __init__(self, filters):\n",
    "        super().__init__()\n",
    "        self.block = nn.Sequential(\n",
    "            nn.Conv2d(filters, filters, 3, padding=1, bias=False),\n",
    "            nn.BatchNorm2d(filters),\n",
    "            nn.ReLU(inplace=True),\n",
    "            nn.Conv2d(filters, filters, 3, padding=1, bias=False),\n",
    "            nn.BatchNorm2d(filters),\n",
    "            nn.ReLU(inplace=True)\n",
    "        )\n",
    "    \n",
    "    def forward(self, x):\n",
    "        return self.block(x) + x\n",
    "\n",
    "# Residual block with downsampling (N, C, H, W) -> (N, 2*C, H/2, W/2) \n",
    "class ResBlock2(nn.Module):\n",
    "    def __init__(self, filters):\n",
    "        super().__init__()\n",
    "        self.block = nn.Sequential(\n",
    "            nn.Conv2d(filters, 2*filters, 3, stride=2, padding=1, bias=False),\n",
    "            nn.BatchNorm2d(2*filters),\n",
    "            nn.ReLU(inplace=True),\n",
    "            nn.Conv2d(2*filters, 2*filters, 3, padding=1, bias=False),\n",
    "            nn.BatchNorm2d(2*filters),\n",
    "            nn.ReLU(inplace=True)\n",
    "        )\n",
    "        self.downsample = nn.Sequential(\n",
    "            nn.Conv2d(filters, 2*filters, 3, stride=2, padding=1, bias=False),\n",
    "            nn.BatchNorm2d(2*filters),\n",
    "            nn.ReLU(inplace=True)\n",
    "        )\n",
    "    \n",
    "    def forward(self, x):\n",
    "        return self.block(x) + self.downsample(x)\n",
    "\n",
    "class ResNet(nn.Module):\n",
    "    def __init__(self):\n",
    "        super().__init__()\n",
    "        # (N, 3, 32, 32)\n",
    "        self.conv1 = nn.Sequential(\n",
    "            nn.Conv2d(3, 16, 3, stride=1, padding=1),\n",
    "            nn.BatchNorm2d(16),\n",
    "            nn.ReLU(inplace=True),\n",
    "        )\n",
    "        # (N, 16, 32, 32)\n",
    "        self.res1 = ResBlock1(16)\n",
    "        # (N, 16, 32, 32)\n",
    "        self.res2 = ResBlock2(16)\n",
    "        # (N, 32, 16, 16)\n",
    "        self.res3 = ResBlock2(32)\n",
    "        # (N, 64, 8, 8)\n",
    "        self.avg_pool = nn.AdaptiveAvgPool2d((1, 1))\n",
    "        # (N, 64, 1, 1)\n",
    "        self.flatten = nn.Flatten()\n",
    "        # (N, 64)\n",
    "        self.fc = nn.Linear(64, 10)\n",
    "        # (N, 10)\n",
    "    \n",
    "    def forward(self, x):\n",
    "        x = self.conv1(x)\n",
    "        x = self.res1(x)\n",
    "        x = self.res2(x)\n",
    "        x = self.res3(x)\n",
    "        x = self.avg_pool(x)\n",
    "        x = self.flatten(x)\n",
    "        return self.fc(x)\n",
    "\n",
    "model = ResNet().to(memory_format=torch.channels_last)\n",
    "print(model)"
   ]
  },
  {
   "attachments": {},
   "cell_type": "markdown",
   "metadata": {},
   "source": [
    "### Define loss function and optimizer."
   ]
  },
  {
   "cell_type": "code",
   "execution_count": 6,
   "metadata": {},
   "outputs": [],
   "source": [
    "loss_fn = nn.CrossEntropyLoss()\n",
    "optimizer = optim.Adam(model.parameters(), lr=1e-2)"
   ]
  },
  {
   "attachments": {},
   "cell_type": "markdown",
   "metadata": {},
   "source": [
    "### Define training and testing steps."
   ]
  },
  {
   "cell_type": "code",
   "execution_count": 7,
   "metadata": {},
   "outputs": [],
   "source": [
    "@torch.compile\n",
    "def train_step(X, y):\n",
    "    with torch.enable_grad():\n",
    "        loss = loss_fn(model(X), y)\n",
    "        optimizer.zero_grad()\n",
    "        loss.backward()\n",
    "        optimizer.step()\n",
    "    return loss.item()"
   ]
  },
  {
   "cell_type": "code",
   "execution_count": 8,
   "metadata": {},
   "outputs": [],
   "source": [
    "@torch.compile\n",
    "def test_step(X, y):\n",
    "    with torch.no_grad():\n",
    "        preds = model(X)\n",
    "        loss = loss_fn(preds, y)\n",
    "    accurate = (preds.argmax(1) == y).type(torch.int).sum()\n",
    "    return loss.item(), accurate.item()"
   ]
  },
  {
   "attachments": {},
   "cell_type": "markdown",
   "metadata": {},
   "source": [
    "### Define training and testing loops."
   ]
  },
  {
   "cell_type": "code",
   "execution_count": 9,
   "metadata": {},
   "outputs": [],
   "source": [
    "def train(dataloader):\n",
    "    model.train()\n",
    "    train_loss = 0.0\n",
    "    for X, y in dataloader:\n",
    "        X, y = X.to(device), y.to(device)\n",
    "        train_loss += train_step(X, y)\n",
    "\n",
    "    print(f\"Train loss: {train_loss / len(dataloader)}\")"
   ]
  },
  {
   "cell_type": "code",
   "execution_count": 10,
   "metadata": {},
   "outputs": [],
   "source": [
    "def test(dataloader):\n",
    "    model.eval()\n",
    "    test_loss, accurate = 0.0, 0\n",
    "    for X, y in dataloader:\n",
    "        X, y = X.to(device), y.to(device)\n",
    "        loss, acc = test_step(X, y)\n",
    "        test_loss += loss\n",
    "        accurate += acc\n",
    "    \n",
    "    print(f\"Test loss: {test_loss / len(dataloader)}, accuracy: {accurate / len(dataloader.dataset)}\")"
   ]
  },
  {
   "cell_type": "code",
   "execution_count": 11,
   "metadata": {},
   "outputs": [],
   "source": [
    "def train_loop(\n",
    "    train_dataloader,\n",
    "    test_dataloader,\n",
    "    epochs,\n",
    "    test_every\n",
    "):\n",
    "    model.to(device)\n",
    "    for i in range(epochs):\n",
    "        epoch = (i + 1)\n",
    "        print(f\"Epoch {epoch}\\n----------------\")\n",
    "        train(train_dataloader)\n",
    "        if (epoch % test_every == 0):\n",
    "            test(test_dataloader)\n",
    "        print(f\"----------------\")"
   ]
  },
  {
   "attachments": {},
   "cell_type": "markdown",
   "metadata": {},
   "source": [
    "### Train ResNet on CIFAR-10 dataset."
   ]
  },
  {
   "cell_type": "code",
   "execution_count": 12,
   "metadata": {},
   "outputs": [
    {
     "name": "stdout",
     "output_type": "stream",
     "text": [
      "Epoch 1\n",
      "----------------\n"
     ]
    },
    {
     "name": "stderr",
     "output_type": "stream",
     "text": [
      "/home/yifanz/venv/torch/lib/python3.10/site-packages/torch/_inductor/compile_fx.py:90: UserWarning: TensorFloat32 tensor cores for float32 matrix multiplication available but not enabled. Consider setting `torch.set_float32_matmul_precision('high')` for better performance.\n",
      "  warnings.warn(\n",
      "/home/yifanz/venv/torch/lib/python3.10/site-packages/torch/autograd/function.py:506: UserWarning: Applied workaround for CuDNN issue, install nvrtc.so (Triggered internally at ../aten/src/ATen/native/cudnn/Conv_v8.cpp:80.)\n",
      "  return super().apply(*args, **kwargs)  # type: ignore[misc]\n"
     ]
    },
    {
     "name": "stdout",
     "output_type": "stream",
     "text": [
      "Train loss: 1.824835014770098\n",
      "----------------\n",
      "Epoch 2\n",
      "----------------\n",
      "Train loss: 1.3861767706053947\n",
      "----------------\n",
      "Epoch 3\n",
      "----------------\n",
      "Train loss: 1.1793399161999794\n",
      "----------------\n",
      "Epoch 4\n",
      "----------------\n",
      "Train loss: 1.0621479351807128\n",
      "----------------\n",
      "Epoch 5\n",
      "----------------\n",
      "Train loss: 0.9868572009798816\n"
     ]
    },
    {
     "name": "stderr",
     "output_type": "stream",
     "text": [
      "[2023-06-14 16:16:46,513] torch._dynamo.convert_frame: [WARNING] torch._dynamo hit config.cache_size_limit (64)\n",
      "   function: '<graph break in test_step>' (/tmp/ipykernel_58678/1809820324.py:7)\n",
      "   reasons:  ___stack0 == 0.8893145322799683\n",
      "to diagnose recompilation issues, see https://pytorch.org/docs/master/dynamo/troubleshooting.html.\n"
     ]
    },
    {
     "name": "stdout",
     "output_type": "stream",
     "text": [
      "Test loss: 0.933613246754755, accuracy: 0.6675\n",
      "----------------\n",
      "Epoch 6\n",
      "----------------\n",
      "Train loss: 0.9368689090699491\n",
      "----------------\n",
      "Epoch 7\n",
      "----------------\n",
      "Train loss: 0.8925590068482987\n",
      "----------------\n",
      "Epoch 8\n",
      "----------------\n",
      "Train loss: 0.8561032951030585\n",
      "----------------\n",
      "Epoch 9\n",
      "----------------\n",
      "Train loss: 0.8332217353993975\n",
      "----------------\n",
      "Epoch 10\n",
      "----------------\n",
      "Train loss: 0.8082764580121735\n",
      "Test loss: 0.6808276025554801, accuracy: 0.7643\n",
      "----------------\n",
      "Epoch 11\n",
      "----------------\n",
      "Train loss: 0.7779793547242498\n",
      "----------------\n",
      "Epoch 12\n",
      "----------------\n",
      "Train loss: 0.7635586895906102\n",
      "----------------\n",
      "Epoch 13\n",
      "----------------\n",
      "Train loss: 0.7482378232814467\n",
      "----------------\n",
      "Epoch 14\n",
      "----------------\n",
      "Train loss: 0.7382824225041568\n",
      "----------------\n",
      "Epoch 15\n",
      "----------------\n",
      "Train loss: 0.7150312553128928\n",
      "Test loss: 0.6059607388098028, accuracy: 0.7926\n",
      "----------------\n",
      "Epoch 16\n",
      "----------------\n",
      "Train loss: 0.7075823883113959\n",
      "----------------\n",
      "Epoch 17\n",
      "----------------\n",
      "Train loss: 0.6969117847702387\n",
      "----------------\n",
      "Epoch 18\n",
      "----------------\n",
      "Train loss: 0.6822946533522642\n",
      "----------------\n",
      "Epoch 19\n",
      "----------------\n",
      "Train loss: 0.6668832144316506\n",
      "----------------\n",
      "Epoch 20\n",
      "----------------\n",
      "Train loss: 0.6575095517098751\n",
      "Test loss: 0.5691356296780743, accuracy: 0.8045\n",
      "----------------\n",
      "Epoch 21\n",
      "----------------\n",
      "Train loss: 0.6450096168329039\n",
      "----------------\n",
      "Epoch 22\n",
      "----------------\n",
      "Train loss: 0.6386594807400423\n",
      "----------------\n",
      "Epoch 23\n",
      "----------------\n",
      "Train loss: 0.6282809147292086\n",
      "----------------\n",
      "Epoch 24\n",
      "----------------\n",
      "Train loss: 0.6248842336790031\n",
      "----------------\n",
      "Epoch 25\n",
      "----------------\n",
      "Train loss: 0.6099719215384529\n",
      "Test loss: 0.6281217268750637, accuracy: 0.7811\n",
      "----------------\n",
      "Epoch 26\n",
      "----------------\n",
      "Train loss: 0.6130387242645254\n",
      "----------------\n",
      "Epoch 27\n",
      "----------------\n",
      "Train loss: 0.5971915203592052\n",
      "----------------\n",
      "Epoch 28\n",
      "----------------\n",
      "Train loss: 0.5899987274118702\n",
      "----------------\n",
      "Epoch 29\n",
      "----------------\n",
      "Train loss: 0.5791569024400638\n",
      "----------------\n",
      "Epoch 30\n",
      "----------------\n",
      "Train loss: 0.5819322259529777\n",
      "Test loss: 0.5524861948399604, accuracy: 0.8079\n",
      "----------------\n",
      "Epoch 31\n",
      "----------------\n",
      "Train loss: 0.5673264645402084\n",
      "----------------\n",
      "Epoch 32\n",
      "----------------\n",
      "Train loss: 0.5612946794465985\n",
      "----------------\n",
      "Epoch 33\n",
      "----------------\n",
      "Train loss: 0.557216567075466\n",
      "----------------\n",
      "Epoch 34\n",
      "----------------\n",
      "Train loss: 0.5528417587127832\n",
      "----------------\n",
      "Epoch 35\n",
      "----------------\n",
      "Train loss: 0.5496720551987133\n",
      "Test loss: 0.5989946085440961, accuracy: 0.806\n",
      "----------------\n",
      "Epoch 36\n",
      "----------------\n",
      "Train loss: 0.5455234385359927\n",
      "----------------\n",
      "Epoch 37\n",
      "----------------\n",
      "Train loss: 0.5410799741592554\n",
      "----------------\n",
      "Epoch 38\n",
      "----------------\n",
      "Train loss: 0.5370970980438126\n",
      "----------------\n",
      "Epoch 39\n",
      "----------------\n",
      "Train loss: 0.5234482900413406\n",
      "----------------\n",
      "Epoch 40\n",
      "----------------\n",
      "Train loss: 0.5290957725871249\n",
      "Test loss: 0.5465314120431489, accuracy: 0.8155\n",
      "----------------\n"
     ]
    }
   ],
   "source": [
    "train_loop(train_dataloader, test_dataloader, 40, 5)"
   ]
  }
 ],
 "metadata": {
  "kernelspec": {
   "display_name": "torch",
   "language": "python",
   "name": "python3"
  },
  "language_info": {
   "codemirror_mode": {
    "name": "ipython",
    "version": 3
   },
   "file_extension": ".py",
   "mimetype": "text/x-python",
   "name": "python",
   "nbconvert_exporter": "python",
   "pygments_lexer": "ipython3",
   "version": "3.10.6"
  },
  "orig_nbformat": 4,
  "vscode": {
   "interpreter": {
    "hash": "6c18ccd7e9828c22dd3d9e0895b6b7ede664ee7a11689b5790cfd0957405a6f2"
   }
  }
 },
 "nbformat": 4,
 "nbformat_minor": 2
}
