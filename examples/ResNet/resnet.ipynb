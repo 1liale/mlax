{
 "cells": [
  {
   "attachments": {},
   "cell_type": "markdown",
   "metadata": {},
   "source": [
    "# ResNet Implementation in mlax with Optax optimizers.\n",
    "This notebook uses the [Optax](https://optax.readthedocs.io/en/latest/optax-101.html) JAX optimization library.\n",
    "\n",
    "You can view a mixed-precision implementation in `resnet_mixed_precision.ipynb`.\n",
    "\n",
    "You can view the Pytorch reference implementation in `resnet_reference.ipynb`."
   ]
  },
  {
   "cell_type": "code",
   "execution_count": 1,
   "metadata": {},
   "outputs": [],
   "source": [
    "import jax\n",
    "import jax.numpy as jnp\n",
    "from jax import (\n",
    "    nn,\n",
    "    random,\n",
    "    tree_util\n",
    ")\n",
    "import numpy as np\n",
    "import optax\n",
    "import torchvision\n",
    "from torch.utils.data import DataLoader"
   ]
  },
  {
   "cell_type": "code",
   "execution_count": 2,
   "metadata": {},
   "outputs": [],
   "source": [
    "from mlax.nn import Conv, Scaler, BatchNorm, Linear, Bias, F\n",
    "from mlax.block import Series, Parallel\n",
    "from mlax.functional import identity"
   ]
  },
  {
   "cell_type": "markdown",
   "metadata": {},
   "source": [
    "### Load in and batch the CIFAR-10 datasets.\n",
    "We follow this example\n",
    "[Training a Simple Neural Network, with PyTorch Data Loading](https://jax.readthedocs.io/en/latest/notebooks/Neural_Network_and_Data_Loading.html) in using Pytorch dataloaders."
   ]
  },
  {
   "cell_type": "code",
   "execution_count": 3,
   "metadata": {},
   "outputs": [
    {
     "name": "stdout",
     "output_type": "stream",
     "text": [
      "Files already downloaded and verified\n",
      "Files already downloaded and verified\n",
      "(50000, 32, 32, 3)\n",
      "(10000, 32, 32, 3)\n"
     ]
    }
   ],
   "source": [
    "class ToNumpy(object):\n",
    "  def __call__(self, pic):\n",
    "    return np.array(pic)\n",
    "\n",
    "cifar_train = torchvision.datasets.CIFAR10(\n",
    "    root=\"../data\",\n",
    "    train=True,\n",
    "    download=True,\n",
    "    transform = torchvision.transforms.Compose([\n",
    "    torchvision.transforms.AutoAugment(),\n",
    "    ToNumpy()\n",
    "])\n",
    ")\n",
    "cifar_test = torchvision.datasets.CIFAR10(\n",
    "    root=\"../data\",\n",
    "    train=False,\n",
    "    download=True,\n",
    "    transform=ToNumpy()\n",
    ")\n",
    "print(cifar_train.data.shape)\n",
    "print(cifar_test.data.shape)"
   ]
  },
  {
   "cell_type": "code",
   "execution_count": 4,
   "metadata": {},
   "outputs": [
    {
     "name": "stdout",
     "output_type": "stream",
     "text": [
      "391 79\n"
     ]
    }
   ],
   "source": [
    "def numpy_collate(batch):\n",
    "  if isinstance(batch[0], np.ndarray):\n",
    "    return np.stack(batch)\n",
    "  elif isinstance(batch[0], (tuple,list)):\n",
    "    transposed = zip(*batch)\n",
    "    return [numpy_collate(samples) for samples in transposed]\n",
    "  else:\n",
    "    return np.array(batch)\n",
    "\n",
    "batch_size=128\n",
    "train_dataloader = DataLoader(\n",
    "    cifar_train, batch_size=128, shuffle=True, collate_fn=numpy_collate, num_workers=8\n",
    ")\n",
    "test_dataloader = DataLoader(\n",
    "    cifar_test, batch_size=128, shuffle=True, collate_fn=numpy_collate, num_workers=8\n",
    ")\n",
    "print(len(train_dataloader), len(test_dataloader))"
   ]
  },
  {
   "cell_type": "markdown",
   "metadata": {},
   "source": [
    "### Initialize ResNet model parameters."
   ]
  },
  {
   "cell_type": "code",
   "execution_count": 5,
   "metadata": {},
   "outputs": [],
   "source": [
    "# 2D Conv with 3x3 filter with batch norm and ReLu\n",
    "def conv2d_block_init(key, in_channels, out_channels, strides=1):\n",
    "    key1, key2, key3, key4 = random.split(key, 4)\n",
    "    return Series.init(\n",
    "        Conv.init(\n",
    "            key1, 2,\n",
    "            in_channels, out_channels, 3,\n",
    "            strides=strides,\n",
    "            padding=1,\n",
    "            channel_last=True\n",
    "        ),\n",
    "        BatchNorm.init(key2, out_channels, channel_axis=-1),\n",
    "        Scaler.init(key3, (None, None, out_channels)),\n",
    "        Bias.init(key4, (None, None, out_channels)),\n",
    "        F.init(nn.relu)\n",
    "    )\n",
    "\n",
    "def split(x):\n",
    "    return x, x\n",
    "\n",
    "def add(pair):\n",
    "    x, y = pair\n",
    "    return jax.lax.add(x, y)\n",
    "\n",
    "# ResBlock keeping the image width, height and the number of channels the same\n",
    "def res_block1_init(key, in_channels):\n",
    "    key1, key2 = random.split(key)\n",
    "    return Series.init(\n",
    "        F.init(split),\n",
    "        Parallel.init(\n",
    "            F.init(identity),\n",
    "            Series.init(\n",
    "                conv2d_block_init(key1, in_channels, in_channels),\n",
    "                conv2d_block_init(key2, in_channels, in_channels)\n",
    "            )\n",
    "        ),\n",
    "        F.init(add)\n",
    "    )\n",
    "\n",
    "# ResBlock halving image width and height and doubling the number of channels\n",
    "def res_block2_init(key, in_channels):\n",
    "    key1, key2, key3 = random.split(key, 3)\n",
    "    out_channels = in_channels * 2\n",
    "    return Series.init(\n",
    "        F.init(split),\n",
    "        Parallel.init(\n",
    "            conv2d_block_init(key1, in_channels, out_channels, strides=2),\n",
    "            Series.init(\n",
    "                conv2d_block_init(key2, in_channels, out_channels, strides=2),\n",
    "                conv2d_block_init(key3, out_channels, out_channels)\n",
    "            )\n",
    "        ),\n",
    "        F.init(add)\n",
    "    )\n",
    "\n",
    "def model_init(key):\n",
    "    keys_iter = iter(random.split(key, 6))\n",
    "    return Series.init(\n",
    "        # Convert int8 numpy inputs to float32 JAX arrays\n",
    "        F.init(\n",
    "            lambda x: jnp.asarray(x, jnp.float32) / 256.0,   \n",
    "        ),\n",
    "        # (N, 32, 32, 3)\n",
    "        conv2d_block_init(next(keys_iter), 3, 16),\n",
    "        # (N, 32, 32, 16)\n",
    "        res_block1_init(next(keys_iter), 16),\n",
    "        # (N, 32, 32, 16)\n",
    "        res_block2_init(next(keys_iter), 16),\n",
    "        # (N, 16, 16, 32)\n",
    "        res_block2_init(next(keys_iter), 32),\n",
    "        # (N, 8, 8, 64)\n",
    "        F.init(lambda x: jnp.reshape(x.mean((1, 2)), (-1, 64))),\n",
    "        # (N, 64)\n",
    "        Linear.init(next(keys_iter), 64, 10),\n",
    "        # (N, 10)\n",
    "        Bias.init(next(keys_iter), (10,))\n",
    "    )"
   ]
  },
  {
   "cell_type": "code",
   "execution_count": 6,
   "metadata": {},
   "outputs": [],
   "source": [
    "trainables, non_trainables, hyperparams = model_init(random.PRNGKey(0))"
   ]
  },
  {
   "cell_type": "markdown",
   "metadata": {},
   "source": [
    "### Define ResNet dataflow."
   ]
  },
  {
   "cell_type": "code",
   "execution_count": 7,
   "metadata": {},
   "outputs": [],
   "source": [
    "model_fwd = Series.fwd"
   ]
  },
  {
   "cell_type": "markdown",
   "metadata": {},
   "source": [
    "### Define loss function."
   ]
  },
  {
   "cell_type": "code",
   "execution_count": 8,
   "metadata": {},
   "outputs": [],
   "source": [
    "def loss_fn(\n",
    "    batched_preds: jnp.array,\n",
    "    batched_targets: np.array\n",
    "):\n",
    "    return optax.softmax_cross_entropy_with_integer_labels(\n",
    "        batched_preds,\n",
    "        batched_targets\n",
    "    ).mean() # Optax returns per-example loss, this returns the mean batch loss"
   ]
  },
  {
   "attachments": {},
   "cell_type": "markdown",
   "metadata": {},
   "source": [
    "We define two convenience functions that repectively find the training loss and\n",
    "inference predictions and loss from batched inputs and targets."
   ]
  },
  {
   "cell_type": "code",
   "execution_count": 9,
   "metadata": {},
   "outputs": [],
   "source": [
    "def model_train_loss(\n",
    "    x_batch: np.array,\n",
    "    y_batch: np.array,\n",
    "    trainables,\n",
    "    non_trainables,\n",
    "    hyperparams\n",
    "):\n",
    "    preds, non_trainables = model_fwd(\n",
    "        x_batch, trainables, non_trainables, hyperparams, inference_mode=False\n",
    "    )\n",
    "    return loss_fn(preds, y_batch), non_trainables\n",
    "\n",
    "@tree_util.Partial(jax.jit, static_argnames=\"hyperparams\")\n",
    "def model_inference_preds_loss(\n",
    "    x_batch: np.array,\n",
    "    y_batch: np.array,\n",
    "    trainables,\n",
    "    non_trainables,\n",
    "    hyperparams\n",
    "):\n",
    "    preds, _ = model_fwd(\n",
    "        x_batch, trainables, non_trainables, hyperparams, inference_mode=True\n",
    "    )\n",
    "    return preds, loss_fn(preds, y_batch)"
   ]
  },
  {
   "cell_type": "markdown",
   "metadata": {},
   "source": [
    "### Define optimizer using Optax."
   ]
  },
  {
   "cell_type": "code",
   "execution_count": 10,
   "metadata": {},
   "outputs": [],
   "source": [
    "optimizer = optax.adam(1e-2)\n",
    "optim_state = optimizer.init(trainables)\n",
    "optim_fn = tree_util.Partial(optimizer.update)"
   ]
  },
  {
   "cell_type": "markdown",
   "metadata": {},
   "source": [
    "### Define training step."
   ]
  },
  {
   "cell_type": "code",
   "execution_count": 11,
   "metadata": {},
   "outputs": [],
   "source": [
    "@tree_util.Partial(jax.jit, static_argnames=\"hyperparams\")\n",
    "def train_step(\n",
    "    x_batch: np.array, \n",
    "    y_batch: np.array,\n",
    "    trainables, non_trainables, hyperparams,\n",
    "    optim_fn, optim_state\n",
    "):\n",
    "    # Find batch loss and gradients\n",
    "    (loss, non_trainables), gradients = jax.value_and_grad(\n",
    "        model_train_loss,\n",
    "        argnums=2, # gradients wrt trainables (argument 2 of model_loss)\n",
    "        has_aux=True # non_trainables is auxiliary data, loss is the true ouput\n",
    "    )(x_batch, y_batch, trainables, non_trainables, hyperparams)\n",
    "\n",
    "    # Get new gradients and optimizer state\n",
    "    gradients, optim_state = optim_fn(gradients, optim_state)\n",
    "\n",
    "    # Update model_weights with new gradients\n",
    "    trainables = optax.apply_updates(gradients, trainables)\n",
    "    return loss, trainables, non_trainables, optim_state"
   ]
  },
  {
   "cell_type": "markdown",
   "metadata": {},
   "source": [
    "### Define functions for training and testing loops."
   ]
  },
  {
   "cell_type": "code",
   "execution_count": 12,
   "metadata": {},
   "outputs": [],
   "source": [
    "def train_epoch(\n",
    "    dataloader,\n",
    "    trainables, non_trainables, hyperparams,\n",
    "    optim_fn, optim_state\n",
    "):\n",
    "    train_loss = 0.0\n",
    "    for X, y in dataloader:\n",
    "        loss, trainables, non_trainables, optim_state = train_step(\n",
    "            X, y,\n",
    "            trainables, non_trainables, hyperparams,\n",
    "            optim_fn, optim_state\n",
    "        )\n",
    "        train_loss += loss\n",
    "\n",
    "    print(f\"Train loss: {train_loss / len(dataloader)}\") \n",
    "    return trainables, non_trainables, optim_state"
   ]
  },
  {
   "cell_type": "code",
   "execution_count": 13,
   "metadata": {},
   "outputs": [],
   "source": [
    "def test(\n",
    "    dataloader,\n",
    "    trainables, non_trainables, hyperparams\n",
    "):\n",
    "    test_loss, accuracy = 0, 0.0\n",
    "    for X, y in dataloader:\n",
    "        preds, loss = model_inference_preds_loss(\n",
    "            X, y, trainables, non_trainables, hyperparams\n",
    "        )\n",
    "        test_loss += loss\n",
    "        accuracy += (jnp.argmax(preds, axis=1) == y).sum()\n",
    "    \n",
    "    print(f\"Test loss: {test_loss / len(dataloader)}, accuracy: {accuracy / len(dataloader.dataset)}\")"
   ]
  },
  {
   "cell_type": "code",
   "execution_count": 14,
   "metadata": {},
   "outputs": [],
   "source": [
    "def train_loop(\n",
    "    train_dataloader, test_dataloader, \n",
    "    trainables, non_trainables, hyperparams,\n",
    "    optim_fn, optim_state,\n",
    "    epochs, test_every\n",
    "):\n",
    "    for i in range(epochs):\n",
    "        epoch = i + 1\n",
    "        print(f\"Epoch {epoch}\\n----------------\")\n",
    "        trainables, non_trainables, optim_state = train_epoch(\n",
    "            train_dataloader,\n",
    "            trainables, non_trainables, hyperparams,\n",
    "            optim_fn, optim_state\n",
    "        )\n",
    "        if (epoch % test_every == 0):\n",
    "            test(test_dataloader, trainables, non_trainables, hyperparams)\n",
    "        print(f\"----------------\")\n",
    "    \n",
    "    return trainables, non_trainables, optim_state"
   ]
  },
  {
   "cell_type": "markdown",
   "metadata": {},
   "source": [
    "### Train ResNet on the CIFAR-10 dataset."
   ]
  },
  {
   "cell_type": "code",
   "execution_count": 15,
   "metadata": {},
   "outputs": [
    {
     "name": "stdout",
     "output_type": "stream",
     "text": [
      "Epoch 1\n",
      "----------------\n",
      "Train loss: 1.769558072090149\n",
      "----------------\n",
      "Epoch 2\n",
      "----------------\n",
      "Train loss: 1.3446305990219116\n",
      "----------------\n",
      "Epoch 3\n",
      "----------------\n",
      "Train loss: 1.1592744588851929\n",
      "----------------\n",
      "Epoch 4\n",
      "----------------\n",
      "Train loss: 1.0479528903961182\n",
      "----------------\n",
      "Epoch 5\n",
      "----------------\n",
      "Train loss: 0.9709985852241516\n",
      "Test loss: 0.8268526792526245, accuracy: 0.7090000510215759\n",
      "----------------\n",
      "Epoch 6\n",
      "----------------\n",
      "Train loss: 0.9181646704673767\n",
      "----------------\n",
      "Epoch 7\n",
      "----------------\n",
      "Train loss: 0.8852843642234802\n",
      "----------------\n",
      "Epoch 8\n",
      "----------------\n",
      "Train loss: 0.8516018390655518\n",
      "----------------\n",
      "Epoch 9\n",
      "----------------\n",
      "Train loss: 0.8193355202674866\n",
      "----------------\n",
      "Epoch 10\n",
      "----------------\n",
      "Train loss: 0.7982493042945862\n",
      "Test loss: 0.7143132090568542, accuracy: 0.7478000521659851\n",
      "----------------\n",
      "Epoch 11\n",
      "----------------\n",
      "Train loss: 0.7721051573753357\n",
      "----------------\n",
      "Epoch 12\n",
      "----------------\n",
      "Train loss: 0.7551024556159973\n",
      "----------------\n",
      "Epoch 13\n",
      "----------------\n",
      "Train loss: 0.7356513738632202\n",
      "----------------\n",
      "Epoch 14\n",
      "----------------\n",
      "Train loss: 0.7214234471321106\n",
      "----------------\n",
      "Epoch 15\n",
      "----------------\n",
      "Train loss: 0.7052819728851318\n",
      "Test loss: 0.6293102502822876, accuracy: 0.782200038433075\n",
      "----------------\n",
      "Epoch 16\n",
      "----------------\n",
      "Train loss: 0.6894333958625793\n",
      "----------------\n",
      "Epoch 17\n",
      "----------------\n",
      "Train loss: 0.6782810091972351\n",
      "----------------\n",
      "Epoch 18\n",
      "----------------\n",
      "Train loss: 0.6678240299224854\n",
      "----------------\n",
      "Epoch 19\n",
      "----------------\n",
      "Train loss: 0.6559844613075256\n",
      "----------------\n",
      "Epoch 20\n",
      "----------------\n",
      "Train loss: 0.6495419144630432\n",
      "Test loss: 0.6081668138504028, accuracy: 0.7910000085830688\n",
      "----------------\n",
      "Epoch 21\n",
      "----------------\n",
      "Train loss: 0.6391394138336182\n",
      "----------------\n",
      "Epoch 22\n",
      "----------------\n",
      "Train loss: 0.6205276250839233\n",
      "----------------\n",
      "Epoch 23\n",
      "----------------\n",
      "Train loss: 0.6177888512611389\n",
      "----------------\n",
      "Epoch 24\n",
      "----------------\n",
      "Train loss: 0.6009750366210938\n",
      "----------------\n",
      "Epoch 25\n",
      "----------------\n",
      "Train loss: 0.5966604948043823\n",
      "Test loss: 0.5850990414619446, accuracy: 0.8025000095367432\n",
      "----------------\n",
      "Epoch 26\n",
      "----------------\n",
      "Train loss: 0.5855423808097839\n",
      "----------------\n",
      "Epoch 27\n",
      "----------------\n",
      "Train loss: 0.5872731804847717\n",
      "----------------\n",
      "Epoch 28\n",
      "----------------\n",
      "Train loss: 0.5807781219482422\n",
      "----------------\n",
      "Epoch 29\n",
      "----------------\n",
      "Train loss: 0.5735634565353394\n",
      "----------------\n",
      "Epoch 30\n",
      "----------------\n",
      "Train loss: 0.5639971494674683\n",
      "Test loss: 0.6296128630638123, accuracy: 0.7890000343322754\n",
      "----------------\n",
      "Epoch 31\n",
      "----------------\n",
      "Train loss: 0.5596650838851929\n",
      "----------------\n",
      "Epoch 32\n",
      "----------------\n",
      "Train loss: 0.5449458956718445\n",
      "----------------\n",
      "Epoch 33\n",
      "----------------\n",
      "Train loss: 0.544157862663269\n",
      "----------------\n",
      "Epoch 34\n",
      "----------------\n",
      "Train loss: 0.5410330891609192\n",
      "----------------\n",
      "Epoch 35\n",
      "----------------\n",
      "Train loss: 0.536897599697113\n",
      "Test loss: 0.5342848896980286, accuracy: 0.8176000118255615\n",
      "----------------\n",
      "Epoch 36\n",
      "----------------\n",
      "Train loss: 0.5290722250938416\n",
      "----------------\n",
      "Epoch 37\n",
      "----------------\n",
      "Train loss: 0.5239078402519226\n",
      "----------------\n",
      "Epoch 38\n",
      "----------------\n",
      "Train loss: 0.514947235584259\n",
      "----------------\n",
      "Epoch 39\n",
      "----------------\n",
      "Train loss: 0.5109385251998901\n",
      "----------------\n",
      "Epoch 40\n",
      "----------------\n",
      "Train loss: 0.5116567015647888\n",
      "Test loss: 0.57248455286026, accuracy: 0.8126000165939331\n",
      "----------------\n"
     ]
    }
   ],
   "source": [
    "new_trainables, new_non_trainables, new_optim_state = train_loop(\n",
    "    train_dataloader, test_dataloader,\n",
    "    trainables, non_trainables, hyperparams,\n",
    "    optim_fn, optim_state,\n",
    "    40, 5\n",
    ")"
   ]
  }
 ],
 "metadata": {
  "kernelspec": {
   "display_name": "mlax",
   "language": "python",
   "name": "python3"
  },
  "language_info": {
   "codemirror_mode": {
    "name": "ipython",
    "version": 3
   },
   "file_extension": ".py",
   "mimetype": "text/x-python",
   "name": "python",
   "nbconvert_exporter": "python",
   "pygments_lexer": "ipython3",
   "version": "3.10.6"
  },
  "orig_nbformat": 4,
  "vscode": {
   "interpreter": {
    "hash": "7c3d7272c1eba356ec9149ec42daf5acdf55d6fdb447aefce6509807a5e73802"
   }
  }
 },
 "nbformat": 4,
 "nbformat_minor": 2
}
