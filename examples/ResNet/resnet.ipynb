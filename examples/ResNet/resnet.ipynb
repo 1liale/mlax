{
 "cells": [
  {
   "attachments": {},
   "cell_type": "markdown",
   "metadata": {},
   "source": [
    "# ResNet Implementation in mlax with Optax optimizers.\n",
    "This notebook uses the [Optax](https://optax.readthedocs.io/en/latest/optax-101.html) JAX optimization library.\n",
    "\n",
    "You can view a mixed-precision implementation in `resnet_mixed_precision.ipynb`.\n",
    "\n",
    "You can view the Pytorch reference implementation in `resnet_reference.ipynb`."
   ]
  },
  {
   "cell_type": "code",
   "execution_count": 1,
   "metadata": {},
   "outputs": [],
   "source": [
    "import jax\n",
    "import jax.numpy as jnp\n",
    "from jax import (\n",
    "    nn,\n",
    "    random,\n",
    "    tree_util\n",
    ")\n",
    "import numpy as np\n",
    "import optax\n",
    "import torchvision\n",
    "from torch.utils.data import DataLoader"
   ]
  },
  {
   "cell_type": "code",
   "execution_count": 2,
   "metadata": {},
   "outputs": [],
   "source": [
    "from mlax.nn import Conv, Scaler, BatchNorm, Linear, Bias, F\n",
    "from mlax.block import Series, Parallel\n",
    "from mlax.functional import identity"
   ]
  },
  {
   "cell_type": "markdown",
   "metadata": {},
   "source": [
    "### Load in and batch the CIFAR-10 datasets.\n",
    "We follow this example\n",
    "[Training a Simple Neural Network, with PyTorch Data Loading](https://jax.readthedocs.io/en/latest/notebooks/Neural_Network_and_Data_Loading.html) in using Pytorch dataloaders."
   ]
  },
  {
   "cell_type": "code",
   "execution_count": 3,
   "metadata": {},
   "outputs": [
    {
     "name": "stdout",
     "output_type": "stream",
     "text": [
      "Files already downloaded and verified\n",
      "Files already downloaded and verified\n",
      "(50000, 32, 32, 3)\n",
      "(10000, 32, 32, 3)\n"
     ]
    }
   ],
   "source": [
    "class ToNumpy(object):\n",
    "  def __call__(self, pic):\n",
    "    return np.array(pic)\n",
    "\n",
    "cifar_train = torchvision.datasets.CIFAR10(\n",
    "    root=\"../data\",\n",
    "    train=True,\n",
    "    download=True,\n",
    "    transform = torchvision.transforms.Compose([\n",
    "    torchvision.transforms.AutoAugment(),\n",
    "    ToNumpy()\n",
    "])\n",
    ")\n",
    "cifar_test = torchvision.datasets.CIFAR10(\n",
    "    root=\"../data\",\n",
    "    train=False,\n",
    "    download=True,\n",
    "    transform=ToNumpy()\n",
    ")\n",
    "print(cifar_train.data.shape)\n",
    "print(cifar_test.data.shape)"
   ]
  },
  {
   "cell_type": "code",
   "execution_count": 4,
   "metadata": {},
   "outputs": [
    {
     "name": "stdout",
     "output_type": "stream",
     "text": [
      "391 79\n"
     ]
    }
   ],
   "source": [
    "def numpy_collate(batch):\n",
    "  if isinstance(batch[0], np.ndarray):\n",
    "    return np.stack(batch)\n",
    "  elif isinstance(batch[0], (tuple,list)):\n",
    "    transposed = zip(*batch)\n",
    "    return [numpy_collate(samples) for samples in transposed]\n",
    "  else:\n",
    "    return np.array(batch)\n",
    "\n",
    "batch_size=128\n",
    "train_dataloader = DataLoader(\n",
    "    cifar_train, batch_size=128, shuffle=True, collate_fn=numpy_collate, num_workers=8\n",
    ")\n",
    "test_dataloader = DataLoader(\n",
    "    cifar_test, batch_size=128, shuffle=True, collate_fn=numpy_collate, num_workers=8\n",
    ")\n",
    "print(len(train_dataloader), len(test_dataloader))"
   ]
  },
  {
   "cell_type": "markdown",
   "metadata": {},
   "source": [
    "### Initialize ResNet model parameters."
   ]
  },
  {
   "cell_type": "code",
   "execution_count": 5,
   "metadata": {},
   "outputs": [],
   "source": [
    "# 2D Conv with 3x3 filter with batch norm and ReLu\n",
    "def conv2d_block_init(key, in_channels, out_channels, strides=1):\n",
    "    key1, key2, key3, key4 = random.split(key, 4)\n",
    "    return Series.init(\n",
    "        Conv.init(\n",
    "            key1, 2,\n",
    "            in_channels, out_channels, 3,\n",
    "            strides=strides,\n",
    "            padding=1,\n",
    "            channel_last=True\n",
    "        ),\n",
    "        BatchNorm.init(key2, out_channels, channel_last=True),\n",
    "        Scaler.init(key3, (None, None, out_channels)),\n",
    "        Bias.init(key4, (None, None, out_channels)),\n",
    "        F.init(nn.relu)\n",
    "    )\n",
    "\n",
    "def fan_out(x):\n",
    "    return x, x\n",
    "\n",
    "def fan_in_add(pair):\n",
    "    x, y = pair\n",
    "    return jax.lax.add(x, y)\n",
    "\n",
    "# ResBlock keeping the image width, height and the number of channels the same\n",
    "def res_block1_init(key, in_channels):\n",
    "    key1, key2 = random.split(key)\n",
    "    return Series.init(\n",
    "        F.init(fan_out),\n",
    "        Parallel.init(\n",
    "            F.init(identity),\n",
    "            Series.init(\n",
    "                conv2d_block_init(key1, in_channels, in_channels),\n",
    "                conv2d_block_init(key2, in_channels, in_channels)\n",
    "            )\n",
    "        ),\n",
    "        F.init(fan_in_add)\n",
    "    )\n",
    "\n",
    "# ResBlock halving image width and height and doubling the number of channels\n",
    "def res_block2_init(key, in_channels):\n",
    "    key1, key2, key3 = random.split(key, 3)\n",
    "    out_channels = in_channels * 2\n",
    "    return Series.init(\n",
    "        F.init(fan_out),\n",
    "        Parallel.init(\n",
    "            conv2d_block_init(key1, in_channels, out_channels, strides=2),\n",
    "            Series.init(\n",
    "                conv2d_block_init(key2, in_channels, out_channels, strides=2),\n",
    "                conv2d_block_init(key3, out_channels, out_channels)\n",
    "            )\n",
    "        ),\n",
    "        F.init(fan_in_add)\n",
    "    )\n",
    "\n",
    "def model_init(key):\n",
    "    keys_iter = iter(random.split(key, 6))\n",
    "    return Series.init(\n",
    "        # Convert int8 numpy inputs to float32 JAX arrays\n",
    "        F.init(\n",
    "            lambda x: jnp.asarray(x, jnp.float32) / 255.0,   \n",
    "        ),\n",
    "        # (N, 32, 32, 3)\n",
    "        conv2d_block_init(next(keys_iter), 3, 16),\n",
    "        # (N, 32, 32, 16)\n",
    "        res_block1_init(next(keys_iter), 16),\n",
    "        # (N, 32, 32, 16)\n",
    "        res_block2_init(next(keys_iter), 16),\n",
    "        # (N, 16, 16, 32)\n",
    "        res_block2_init(next(keys_iter), 32),\n",
    "        # (N, 8, 8, 64)\n",
    "        F.init(lambda x: jnp.reshape(x.mean((1, 2)), (-1, 64))),\n",
    "        # (N, 64)\n",
    "        Linear.init(next(keys_iter), 64, 10),\n",
    "        # (N, 10)\n",
    "        Bias.init(next(keys_iter), (10,))\n",
    "    )"
   ]
  },
  {
   "cell_type": "code",
   "execution_count": 6,
   "metadata": {},
   "outputs": [],
   "source": [
    "trainables, non_trainables, hyperparams = model_init(random.PRNGKey(0))"
   ]
  },
  {
   "cell_type": "markdown",
   "metadata": {},
   "source": [
    "### Define ResNet dataflow."
   ]
  },
  {
   "cell_type": "code",
   "execution_count": 7,
   "metadata": {},
   "outputs": [],
   "source": [
    "model_fwd = Series.fwd"
   ]
  },
  {
   "cell_type": "markdown",
   "metadata": {},
   "source": [
    "### Define loss function."
   ]
  },
  {
   "cell_type": "code",
   "execution_count": 8,
   "metadata": {},
   "outputs": [],
   "source": [
    "def loss_fn(\n",
    "    batched_preds: jnp.array,\n",
    "    batched_targets: np.array\n",
    "):\n",
    "    return optax.softmax_cross_entropy_with_integer_labels(\n",
    "        batched_preds,\n",
    "        batched_targets\n",
    "    ).mean() # Optax returns per-example loss, this returns the mean batch loss"
   ]
  },
  {
   "attachments": {},
   "cell_type": "markdown",
   "metadata": {},
   "source": [
    "We define two convenience functions that repectively find the training loss and\n",
    "inference predictions and loss from batched inputs and targets."
   ]
  },
  {
   "cell_type": "code",
   "execution_count": 9,
   "metadata": {},
   "outputs": [],
   "source": [
    "def model_train_loss(\n",
    "    x_batch: np.array,\n",
    "    y_batch: np.array,\n",
    "    trainables,\n",
    "    non_trainables,\n",
    "    hyperparams\n",
    "):\n",
    "    preds, non_trainables = model_fwd(\n",
    "        x_batch, trainables, non_trainables, hyperparams, inference_mode=False\n",
    "    )\n",
    "    return loss_fn(preds, y_batch), non_trainables\n",
    "\n",
    "@tree_util.Partial(jax.jit, static_argnames=\"hyperparams\")\n",
    "def model_inference_preds_loss(\n",
    "    x_batch: np.array,\n",
    "    y_batch: np.array,\n",
    "    trainables,\n",
    "    non_trainables,\n",
    "    hyperparams\n",
    "):\n",
    "    preds, _ = model_fwd(\n",
    "        x_batch, trainables, non_trainables, hyperparams, inference_mode=True\n",
    "    )\n",
    "    return preds, loss_fn(preds, y_batch)"
   ]
  },
  {
   "cell_type": "markdown",
   "metadata": {},
   "source": [
    "### Define optimizer using Optax."
   ]
  },
  {
   "cell_type": "code",
   "execution_count": 10,
   "metadata": {},
   "outputs": [],
   "source": [
    "optimizer = optax.adam(1e-2)\n",
    "optim_state = optimizer.init(trainables)\n",
    "optim_fn = tree_util.Partial(optimizer.update)"
   ]
  },
  {
   "cell_type": "markdown",
   "metadata": {},
   "source": [
    "### Define training step."
   ]
  },
  {
   "cell_type": "code",
   "execution_count": 11,
   "metadata": {},
   "outputs": [],
   "source": [
    "@tree_util.Partial(jax.jit, static_argnames=\"hyperparams\")\n",
    "def train_step(\n",
    "    x_batch: np.array, \n",
    "    y_batch: np.array,\n",
    "    trainables, non_trainables, hyperparams,\n",
    "    optim_fn, optim_state\n",
    "):\n",
    "    # Find batch loss and gradients\n",
    "    (loss, non_trainables), gradients = jax.value_and_grad(\n",
    "        model_train_loss,\n",
    "        argnums=2, # gradients wrt trainables (argument 2 of model_loss)\n",
    "        has_aux=True # non_trainables is auxiliary data, loss is the true ouput\n",
    "    )(x_batch, y_batch, trainables, non_trainables, hyperparams)\n",
    "\n",
    "    # Get new gradients and optimizer state\n",
    "    gradients, optim_state = optim_fn(gradients, optim_state)\n",
    "\n",
    "    # Update model_weights with new gradients\n",
    "    trainables = optax.apply_updates(gradients, trainables)\n",
    "    return loss, trainables, non_trainables, optim_state"
   ]
  },
  {
   "cell_type": "markdown",
   "metadata": {},
   "source": [
    "### Define functions for training and testing loops."
   ]
  },
  {
   "cell_type": "code",
   "execution_count": 12,
   "metadata": {},
   "outputs": [],
   "source": [
    "def train_epoch(\n",
    "    dataloader,\n",
    "    trainables, non_trainables, hyperparams,\n",
    "    optim_fn, optim_state\n",
    "):\n",
    "    train_loss = 0.0\n",
    "    for X, y in dataloader:\n",
    "        loss, trainables, non_trainables, optim_state = train_step(\n",
    "            X, y,\n",
    "            trainables, non_trainables, hyperparams,\n",
    "            optim_fn, optim_state\n",
    "        )\n",
    "        train_loss += loss\n",
    "\n",
    "    print(f\"Train loss: {train_loss / len(dataloader)}\") \n",
    "    return trainables, non_trainables, optim_state"
   ]
  },
  {
   "cell_type": "code",
   "execution_count": 13,
   "metadata": {},
   "outputs": [],
   "source": [
    "def test(\n",
    "    dataloader,\n",
    "    trainables, non_trainables, hyperparams\n",
    "):\n",
    "    test_loss, accuracy = 0, 0.0\n",
    "    for X, y in dataloader:\n",
    "        preds, loss = model_inference_preds_loss(\n",
    "            X, y, trainables, non_trainables, hyperparams\n",
    "        )\n",
    "        test_loss += loss\n",
    "        accuracy += (jnp.argmax(preds, axis=1) == y).sum()\n",
    "    \n",
    "    print(f\"Test loss: {test_loss / len(dataloader)}, accuracy: {accuracy / len(dataloader.dataset)}\")"
   ]
  },
  {
   "cell_type": "code",
   "execution_count": 14,
   "metadata": {},
   "outputs": [],
   "source": [
    "def train_loop(\n",
    "    train_dataloader, test_dataloader, \n",
    "    trainables, non_trainables, hyperparams,\n",
    "    optim_fn, optim_state,\n",
    "    epochs, test_every\n",
    "):\n",
    "    for i in range(epochs):\n",
    "        epoch = i + 1\n",
    "        print(f\"Epoch {epoch}\\n----------------\")\n",
    "        trainables, non_trainables, optim_state = train_epoch(\n",
    "            train_dataloader,\n",
    "            trainables, non_trainables, hyperparams,\n",
    "            optim_fn, optim_state\n",
    "        )\n",
    "        if (epoch % test_every == 0):\n",
    "            test(test_dataloader, trainables, non_trainables, hyperparams)\n",
    "        print(f\"----------------\")\n",
    "    \n",
    "    return trainables, non_trainables, optim_state"
   ]
  },
  {
   "cell_type": "markdown",
   "metadata": {},
   "source": [
    "### Train ResNet on the CIFAR-10 dataset."
   ]
  },
  {
   "cell_type": "code",
   "execution_count": 15,
   "metadata": {},
   "outputs": [
    {
     "name": "stdout",
     "output_type": "stream",
     "text": [
      "Epoch 1\n",
      "----------------\n",
      "Train loss: 1.818783164024353\n",
      "----------------\n",
      "Epoch 2\n",
      "----------------\n",
      "Train loss: 1.38510000705719\n",
      "----------------\n",
      "Epoch 3\n",
      "----------------\n",
      "Train loss: 1.2011369466781616\n",
      "----------------\n",
      "Epoch 4\n",
      "----------------\n",
      "Train loss: 1.0768488645553589\n",
      "----------------\n",
      "Epoch 5\n",
      "----------------\n",
      "Train loss: 0.9952866435050964\n",
      "Test loss: 0.9421426653862, accuracy: 0.6823000311851501\n",
      "----------------\n",
      "Epoch 6\n",
      "----------------\n",
      "Train loss: 0.9363298416137695\n",
      "----------------\n",
      "Epoch 7\n",
      "----------------\n",
      "Train loss: 0.9004806280136108\n",
      "----------------\n",
      "Epoch 8\n",
      "----------------\n",
      "Train loss: 0.8543218970298767\n",
      "----------------\n",
      "Epoch 9\n",
      "----------------\n",
      "Train loss: 0.8231685757637024\n",
      "----------------\n",
      "Epoch 10\n",
      "----------------\n",
      "Train loss: 0.8026329278945923\n",
      "Test loss: 0.6844368577003479, accuracy: 0.7659000158309937\n",
      "----------------\n",
      "Epoch 11\n",
      "----------------\n",
      "Train loss: 0.7816815972328186\n",
      "----------------\n",
      "Epoch 12\n",
      "----------------\n",
      "Train loss: 0.7598720788955688\n",
      "----------------\n",
      "Epoch 13\n",
      "----------------\n",
      "Train loss: 0.7423501014709473\n",
      "----------------\n",
      "Epoch 14\n",
      "----------------\n",
      "Train loss: 0.7273514866828918\n",
      "----------------\n",
      "Epoch 15\n",
      "----------------\n",
      "Train loss: 0.7177414894104004\n",
      "Test loss: 0.6411377191543579, accuracy: 0.7773000597953796\n",
      "----------------\n",
      "Epoch 16\n",
      "----------------\n",
      "Train loss: 0.6955609321594238\n",
      "----------------\n",
      "Epoch 17\n",
      "----------------\n",
      "Train loss: 0.6885117292404175\n",
      "----------------\n",
      "Epoch 18\n",
      "----------------\n",
      "Train loss: 0.677557110786438\n",
      "----------------\n",
      "Epoch 19\n",
      "----------------\n",
      "Train loss: 0.6680456399917603\n",
      "----------------\n",
      "Epoch 20\n",
      "----------------\n",
      "Train loss: 0.6561806797981262\n",
      "Test loss: 0.5524429678916931, accuracy: 0.8090000152587891\n",
      "----------------\n",
      "Epoch 21\n",
      "----------------\n",
      "Train loss: 0.6445570588111877\n",
      "----------------\n",
      "Epoch 22\n",
      "----------------\n",
      "Train loss: 0.6386097073554993\n",
      "----------------\n",
      "Epoch 23\n",
      "----------------\n",
      "Train loss: 0.6313381195068359\n",
      "----------------\n",
      "Epoch 24\n",
      "----------------\n",
      "Train loss: 0.6190780401229858\n",
      "----------------\n",
      "Epoch 25\n",
      "----------------\n",
      "Train loss: 0.6110740303993225\n",
      "Test loss: 0.5357179045677185, accuracy: 0.8140000104904175\n",
      "----------------\n",
      "Epoch 26\n",
      "----------------\n",
      "Train loss: 0.6018065810203552\n",
      "----------------\n",
      "Epoch 27\n",
      "----------------\n",
      "Train loss: 0.5964136123657227\n",
      "----------------\n",
      "Epoch 28\n",
      "----------------\n",
      "Train loss: 0.5800790786743164\n",
      "----------------\n",
      "Epoch 29\n",
      "----------------\n",
      "Train loss: 0.5766813158988953\n",
      "----------------\n",
      "Epoch 30\n",
      "----------------\n",
      "Train loss: 0.5788437128067017\n",
      "Test loss: 0.5816491842269897, accuracy: 0.801300048828125\n",
      "----------------\n",
      "Epoch 31\n",
      "----------------\n",
      "Train loss: 0.5695246458053589\n",
      "----------------\n",
      "Epoch 32\n",
      "----------------\n",
      "Train loss: 0.5564302802085876\n",
      "----------------\n",
      "Epoch 33\n",
      "----------------\n",
      "Train loss: 0.5571936964988708\n",
      "----------------\n",
      "Epoch 34\n",
      "----------------\n",
      "Train loss: 0.5478197932243347\n",
      "----------------\n",
      "Epoch 35\n",
      "----------------\n",
      "Train loss: 0.5396754741668701\n",
      "Test loss: 0.5636321306228638, accuracy: 0.8097000122070312\n",
      "----------------\n",
      "Epoch 36\n",
      "----------------\n",
      "Train loss: 0.5425005555152893\n",
      "----------------\n",
      "Epoch 37\n",
      "----------------\n",
      "Train loss: 0.5348158478736877\n",
      "----------------\n",
      "Epoch 38\n",
      "----------------\n",
      "Train loss: 0.5260987281799316\n",
      "----------------\n",
      "Epoch 39\n",
      "----------------\n",
      "Train loss: 0.5154374241828918\n",
      "----------------\n",
      "Epoch 40\n",
      "----------------\n",
      "Train loss: 0.5205115675926208\n",
      "Test loss: 0.5167247653007507, accuracy: 0.820400059223175\n",
      "----------------\n"
     ]
    }
   ],
   "source": [
    "new_trainables, new_non_trainables, new_optim_state = train_loop(\n",
    "    train_dataloader, test_dataloader,\n",
    "    trainables, non_trainables, hyperparams,\n",
    "    optim_fn, optim_state,\n",
    "    40, 5\n",
    ")"
   ]
  }
 ],
 "metadata": {
  "kernelspec": {
   "display_name": "mlax",
   "language": "python",
   "name": "python3"
  },
  "language_info": {
   "codemirror_mode": {
    "name": "ipython",
    "version": 3
   },
   "file_extension": ".py",
   "mimetype": "text/x-python",
   "name": "python",
   "nbconvert_exporter": "python",
   "pygments_lexer": "ipython3",
   "version": "3.10.6"
  },
  "orig_nbformat": 4,
  "vscode": {
   "interpreter": {
    "hash": "7c3d7272c1eba356ec9149ec42daf5acdf55d6fdb447aefce6509807a5e73802"
   }
  }
 },
 "nbformat": 4,
 "nbformat_minor": 2
}
