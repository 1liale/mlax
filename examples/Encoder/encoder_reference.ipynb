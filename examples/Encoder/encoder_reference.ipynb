{
 "cells": [
  {
   "attachments": {},
   "cell_type": "markdown",
   "metadata": {},
   "source": [
    "## Transformer Encoder Reference."
   ]
  },
  {
   "cell_type": "code",
   "execution_count": 1,
   "metadata": {},
   "outputs": [],
   "source": [
    "import torch\n",
    "from torch import nn, optim\n",
    "from torch.utils.data import DataLoader"
   ]
  },
  {
   "cell_type": "code",
   "execution_count": 2,
   "metadata": {},
   "outputs": [],
   "source": [
    "from datasets import load_dataset, Value\n",
    "from tokenizers import Tokenizer"
   ]
  },
  {
   "attachments": {},
   "cell_type": "markdown",
   "metadata": {},
   "source": [
    "### Load in the IMDB dataset."
   ]
  },
  {
   "cell_type": "code",
   "execution_count": 3,
   "metadata": {},
   "outputs": [
    {
     "name": "stderr",
     "output_type": "stream",
     "text": [
      "Found cached dataset imdb (/home/zongyf02/projects/mlax/examples/Encoder/../data/imdb/plain_text/1.0.0/d613c88cf8fa3bab83b4ded3713f1f74830d1100e171db75bbddb80b3345c9c0)\n",
      "Found cached dataset imdb (/home/zongyf02/projects/mlax/examples/Encoder/../data/imdb/plain_text/1.0.0/d613c88cf8fa3bab83b4ded3713f1f74830d1100e171db75bbddb80b3345c9c0)\n"
     ]
    }
   ],
   "source": [
    "imdb_train = load_dataset(\"imdb\", cache_dir=\"../data\", split=\"train\")\n",
    "imdb_test = load_dataset(\"imdb\", cache_dir=\"../data\", split=\"test\")"
   ]
  },
  {
   "cell_type": "code",
   "execution_count": 4,
   "metadata": {},
   "outputs": [],
   "source": [
    "seq_len = 512\n",
    "tokenizer = Tokenizer.from_pretrained(\"roberta-base\")\n",
    "tokenizer.enable_truncation(seq_len)\n",
    "tokenizer.enable_padding(length=seq_len)"
   ]
  },
  {
   "cell_type": "code",
   "execution_count": 5,
   "metadata": {},
   "outputs": [],
   "source": [
    "def tokenization(batch):\n",
    "    encodings = tokenizer.encode_batch(batch[\"text\"])\n",
    "    batch[\"ids\"] = [encoding.ids for encoding in encodings]\n",
    "    batch[\"mask\"] = [\n",
    "        [not bool(i) for i in encoding.attention_mask] for encoding in encodings\n",
    "    ]\n",
    "    del batch[\"text\"]\n",
    "    return batch"
   ]
  },
  {
   "cell_type": "code",
   "execution_count": 6,
   "metadata": {},
   "outputs": [
    {
     "name": "stderr",
     "output_type": "stream",
     "text": [
      "Loading cached processed dataset at /home/zongyf02/projects/mlax/examples/data/imdb/plain_text/1.0.0/d613c88cf8fa3bab83b4ded3713f1f74830d1100e171db75bbddb80b3345c9c0/cache-83e2b24d1a51517b.arrow\n",
      "Loading cached processed dataset at /home/zongyf02/projects/mlax/examples/data/imdb/plain_text/1.0.0/d613c88cf8fa3bab83b4ded3713f1f74830d1100e171db75bbddb80b3345c9c0/cache-ae4f513eadcbf358.arrow\n"
     ]
    }
   ],
   "source": [
    "imdb_train_tokenized = imdb_train.map(\n",
    "    tokenization, batched=True, batch_size=1024\n",
    ")\n",
    "imdb_test_tokenized = imdb_test.map(\n",
    "    tokenization, batched=True, batch_size=1024\n",
    ")"
   ]
  },
  {
   "cell_type": "code",
   "execution_count": 7,
   "metadata": {},
   "outputs": [],
   "source": [
    "imdb_train_tokenized.set_format(type=\"torch\")\n",
    "imdb_test_tokenized.set_format(type=\"torch\")"
   ]
  },
  {
   "attachments": {},
   "cell_type": "markdown",
   "metadata": {},
   "source": [
    "### Prepare dataloaders."
   ]
  },
  {
   "cell_type": "code",
   "execution_count": 8,
   "metadata": {},
   "outputs": [],
   "source": [
    "batch_size = 128\n",
    "train_dataloader = DataLoader(imdb_train_tokenized, batch_size=batch_size, shuffle=True, num_workers=0)\n",
    "test_dataloader = DataLoader(imdb_test_tokenized, batch_size=batch_size, num_workers=0)"
   ]
  },
  {
   "cell_type": "code",
   "execution_count": 9,
   "metadata": {},
   "outputs": [
    {
     "name": "stdout",
     "output_type": "stream",
     "text": [
      "cuda\n"
     ]
    }
   ],
   "source": [
    "device = \"cuda\" if torch.cuda.is_available() else \"cpu\"\n",
    "print(device)"
   ]
  },
  {
   "attachments": {},
   "cell_type": "markdown",
   "metadata": {},
   "source": [
    "### Build Encoder model."
   ]
  },
  {
   "cell_type": "code",
   "execution_count": 10,
   "metadata": {},
   "outputs": [
    {
     "name": "stdout",
     "output_type": "stream",
     "text": [
      "Model(\n",
      "  (embeddings): Embedding(50265, 256)\n",
      "  (rotary): RotaryEmbed()\n",
      "  (encoder1): TransformerEncoderLayer(\n",
      "    (self_attn): MultiheadAttention(\n",
      "      (out_proj): NonDynamicallyQuantizableLinear(in_features=256, out_features=256, bias=True)\n",
      "    )\n",
      "    (linear1): Linear(in_features=256, out_features=1024, bias=True)\n",
      "    (dropout): Dropout(p=0.2, inplace=False)\n",
      "    (linear2): Linear(in_features=1024, out_features=256, bias=True)\n",
      "    (norm1): LayerNorm((256,), eps=1e-05, elementwise_affine=True)\n",
      "    (norm2): LayerNorm((256,), eps=1e-05, elementwise_affine=True)\n",
      "    (dropout1): Dropout(p=0.2, inplace=False)\n",
      "    (dropout2): Dropout(p=0.2, inplace=False)\n",
      "  )\n",
      "  (encoder2): TransformerEncoderLayer(\n",
      "    (self_attn): MultiheadAttention(\n",
      "      (out_proj): NonDynamicallyQuantizableLinear(in_features=256, out_features=256, bias=True)\n",
      "    )\n",
      "    (linear1): Linear(in_features=256, out_features=1024, bias=True)\n",
      "    (dropout): Dropout(p=0.2, inplace=False)\n",
      "    (linear2): Linear(in_features=1024, out_features=256, bias=True)\n",
      "    (norm1): LayerNorm((256,), eps=1e-05, elementwise_affine=True)\n",
      "    (norm2): LayerNorm((256,), eps=1e-05, elementwise_affine=True)\n",
      "    (dropout1): Dropout(p=0.2, inplace=False)\n",
      "    (dropout2): Dropout(p=0.2, inplace=False)\n",
      "  )\n",
      "  (fc): Linear(in_features=131072, out_features=1, bias=True)\n",
      ")\n"
     ]
    }
   ],
   "source": [
    "class RotaryEmbed(nn.Module):\n",
    "    def __init__(self, seq_len, embed_dim):\n",
    "        super().__init__()\n",
    "        inv_freq = 1.0 / (\n",
    "            10000 ** (torch.arange(0, embed_dim, 2, dtype=torch.float) / embed_dim)\n",
    "        )\n",
    "        pos = torch.arange(seq_len, dtype=torch.float)\n",
    "        pos_enc = torch.einsum(\"p, f -> p f\", pos, inv_freq)\n",
    "        self.seq_len = seq_len\n",
    "        self.register_buffer(\"sin_enc\", pos_enc.sin())\n",
    "        self.register_buffer(\"cos_enc\", pos_enc.cos())\n",
    "\n",
    "    def forward(self, x):\n",
    "        sin_enc = torch.stack([self.sin_enc, self.sin_enc], dim=-1).reshape(\n",
    "            self.sin_enc.shape[:-1] + (-1,)\n",
    "        )\n",
    "        cos_enc = torch.stack([self.cos_enc, self.cos_enc], dim=-1).reshape(\n",
    "            self.cos_enc.shape[:-1] + (-1,)\n",
    "        )\n",
    "        rotated_x = torch.stack([-x[..., 1::2], x[..., ::2]], dim=-1).reshape(\n",
    "            x.shape\n",
    "        )\n",
    "        return x * cos_enc + rotated_x * sin_enc\n",
    "\n",
    "class Model(nn.Module):\n",
    "    def __init__(\n",
    "        self,\n",
    "        vocab_size,\n",
    "        seq_len,\n",
    "        embed_dim=256,\n",
    "        num_heads=8,\n",
    "        ff_depth=1024,\n",
    "        act_fn=nn.functional.gelu,\n",
    "        dropout=0.1\n",
    "    ):\n",
    "        super().__init__()\n",
    "        self.embeddings = nn.Embedding(vocab_size, embed_dim)\n",
    "        self.rotary = RotaryEmbed(seq_len, embed_dim)\n",
    "        self.encoder1 = nn.TransformerEncoderLayer(\n",
    "            embed_dim, num_heads, ff_depth, dropout, act_fn,\n",
    "            batch_first=True, norm_first=True\n",
    "        )\n",
    "        self.encoder2 = nn.TransformerEncoderLayer(\n",
    "            embed_dim, num_heads, ff_depth, dropout, act_fn,\n",
    "            batch_first=True, norm_first=True\n",
    "        )\n",
    "        self.fc = nn.Linear(embed_dim * seq_len, 1)\n",
    "\n",
    "    def forward(self, ids, mask):\n",
    "        embeds = self.embeddings(ids)\n",
    "        embeds = self.rotary(embeds)\n",
    "        acts = self.encoder1(embeds, src_key_padding_mask=mask)\n",
    "        acts = self.rotary(acts)\n",
    "        acts = self.encoder2(acts, src_key_padding_mask=mask)\n",
    "        acts = torch.reshape(acts, (len(acts), -1))\n",
    "        acts = self.fc(acts)\n",
    "        return torch.squeeze(acts)\n",
    "\n",
    "model = Model(tokenizer.get_vocab_size(), seq_len, dropout=0.2)\n",
    "print(model)"
   ]
  },
  {
   "attachments": {},
   "cell_type": "markdown",
   "metadata": {},
   "source": [
    "### Define loss function and optimizer."
   ]
  },
  {
   "cell_type": "code",
   "execution_count": 11,
   "metadata": {},
   "outputs": [],
   "source": [
    "loss_fn = nn.BCEWithLogitsLoss()\n",
    "optimizer = optim.AdamW(model.parameters(), lr=1e-3, weight_decay=1e-2)"
   ]
  },
  {
   "attachments": {},
   "cell_type": "markdown",
   "metadata": {},
   "source": [
    "### Define training and testing steps."
   ]
  },
  {
   "cell_type": "code",
   "execution_count": 12,
   "metadata": {},
   "outputs": [],
   "source": [
    "@torch.compile\n",
    "def train_step(X, mask, y):\n",
    "    with torch.enable_grad():\n",
    "        loss = loss_fn(model(X, mask), y)\n",
    "        optimizer.zero_grad()\n",
    "        loss.backward()\n",
    "        optimizer.step()\n",
    "    return loss.item()"
   ]
  },
  {
   "cell_type": "code",
   "execution_count": 13,
   "metadata": {},
   "outputs": [],
   "source": [
    "@torch.compile\n",
    "def test_step(X, mask, y):\n",
    "    with torch.no_grad():\n",
    "        preds = model(X, mask)\n",
    "        loss = loss_fn(preds, y)\n",
    "    accurate = (torch.sigmoid(preds).round() == y).type(torch.int).sum()\n",
    "    return loss.item(), accurate.item()"
   ]
  },
  {
   "attachments": {},
   "cell_type": "markdown",
   "metadata": {},
   "source": [
    "### Define training and testing loops."
   ]
  },
  {
   "cell_type": "code",
   "execution_count": 14,
   "metadata": {},
   "outputs": [],
   "source": [
    "def train(dataloader):\n",
    "    model.train()\n",
    "    train_loss = 0.0\n",
    "    for batch in dataloader:\n",
    "        X = batch[\"ids\"].to(device)\n",
    "        mask = batch[\"mask\"].to(device)\n",
    "        y = batch[\"label\"].type(torch.float).to(device)\n",
    "        train_loss += train_step(X, mask, y)\n",
    "\n",
    "    print(f\"Train loss: {train_loss / len(dataloader)}\")"
   ]
  },
  {
   "cell_type": "code",
   "execution_count": 15,
   "metadata": {},
   "outputs": [],
   "source": [
    "def test(dataloader):\n",
    "    model.eval()\n",
    "    test_loss, accurate = 0.0, 0\n",
    "    for batch in dataloader:\n",
    "        X = batch[\"ids\"].to(device)\n",
    "        mask = batch[\"mask\"].to(device)\n",
    "        y = batch[\"label\"].type(torch.float).to(device)\n",
    "        loss, acc = test_step(X, mask, y)\n",
    "        test_loss += loss\n",
    "        accurate += acc\n",
    "    \n",
    "    print(f\"Test loss: {test_loss / len(dataloader)}, accuracy: {accurate / len(dataloader.dataset)}\")"
   ]
  },
  {
   "cell_type": "code",
   "execution_count": 16,
   "metadata": {},
   "outputs": [],
   "source": [
    "def train_loop(\n",
    "    train_dataloader,\n",
    "    test_dataloader,\n",
    "    epochs,\n",
    "    test_every\n",
    "):\n",
    "    model.to(device)\n",
    "    for i in range(epochs):\n",
    "        epoch = (i + 1)\n",
    "        print(f\"Epoch {epoch}\\n----------------\")\n",
    "        train(train_dataloader)\n",
    "        if (epoch % test_every == 0):\n",
    "            test(test_dataloader)\n",
    "        print(f\"----------------\")"
   ]
  },
  {
   "attachments": {},
   "cell_type": "markdown",
   "metadata": {},
   "source": [
    "## Train Encoder on the IMDB dataset."
   ]
  },
  {
   "cell_type": "code",
   "execution_count": 17,
   "metadata": {},
   "outputs": [
    {
     "name": "stdout",
     "output_type": "stream",
     "text": [
      "Epoch 1\n",
      "----------------\n"
     ]
    },
    {
     "name": "stderr",
     "output_type": "stream",
     "text": [
      "/home/zongyf02/venv/torch/lib/python3.10/site-packages/torch/_inductor/compile_fx.py:90: UserWarning: TensorFloat32 tensor cores for float32 matrix multiplication available but not enabled. Consider setting `torch.set_float32_matmul_precision('high')` for better performance.\n",
      "  warnings.warn(\n",
      "[2023-05-22 20:08:08,967] torch._inductor.utils: [WARNING] using triton random, expect difference from eager\n",
      "[2023-05-22 20:08:42,349] torch._inductor.utils: [WARNING] using triton random, expect difference from eager\n"
     ]
    },
    {
     "name": "stdout",
     "output_type": "stream",
     "text": [
      "Train loss: 1.5207095638829835\n",
      "----------------\n",
      "Epoch 2\n",
      "----------------\n",
      "Train loss: 0.36088826895064235\n",
      "----------------\n",
      "Epoch 3\n",
      "----------------\n",
      "Train loss: 0.16279021430076385\n",
      "----------------\n",
      "Epoch 4\n",
      "----------------\n",
      "Train loss: 0.0859131528045602\n",
      "----------------\n",
      "Epoch 5\n",
      "----------------\n",
      "Train loss: 0.04383768909373226\n"
     ]
    },
    {
     "name": "stderr",
     "output_type": "stream",
     "text": [
      "/home/zongyf02/venv/torch/lib/python3.10/site-packages/torch/nn/modules/transformer.py:544: UserWarning: Converting mask without torch.bool dtype to bool; this will negatively affect performance. Prefer to use a boolean mask directly. (Triggered internally at ../aten/src/ATen/native/transformers/attention.cpp:150.)\n",
      "  return torch._transformer_encoder_layer_fwd(\n",
      "/home/zongyf02/venv/torch/lib/python3.10/site-packages/torch/nn/modules/transformer.py:544: UserWarning: Converting mask without torch.bool dtype to bool; this will negatively affect performance. Prefer to use a boolean mask directly. (Triggered internally at ../aten/src/ATen/native/transformers/attention.cpp:150.)\n",
      "  return torch._transformer_encoder_layer_fwd(\n",
      "[2023-05-22 20:10:43,139] torch._dynamo.convert_frame: [WARNING] torch._dynamo hit config.cache_size_limit (64)\n",
      "   function: '<graph break in test_step>' (/tmp/ipykernel_13480/3487953640.py:7)\n",
      "   reasons:  ___stack0 == 1.8548640012741089\n",
      "to diagnose recompilation issues, see https://pytorch.org/docs/master/dynamo/troubleshooting.html.\n",
      "/home/zongyf02/venv/torch/lib/python3.10/site-packages/torch/nn/modules/transformer.py:544: UserWarning: Converting mask without torch.bool dtype to bool; this will negatively affect performance. Prefer to use a boolean mask directly. (Triggered internally at ../aten/src/ATen/native/transformers/attention.cpp:150.)\n",
      "  return torch._transformer_encoder_layer_fwd(\n",
      "/home/zongyf02/venv/torch/lib/python3.10/site-packages/torch/nn/modules/transformer.py:544: UserWarning: Converting mask without torch.bool dtype to bool; this will negatively affect performance. Prefer to use a boolean mask directly. (Triggered internally at ../aten/src/ATen/native/transformers/attention.cpp:150.)\n",
      "  return torch._transformer_encoder_layer_fwd(\n"
     ]
    },
    {
     "name": "stdout",
     "output_type": "stream",
     "text": [
      "Test loss: 1.4226764223101187, accuracy: 0.7324\n",
      "----------------\n",
      "Epoch 6\n",
      "----------------\n",
      "Train loss: 0.041457442265022924\n",
      "----------------\n",
      "Epoch 7\n",
      "----------------\n",
      "Train loss: 0.048255698595015446\n",
      "----------------\n",
      "Epoch 8\n",
      "----------------\n",
      "Train loss: 0.1875324243042922\n",
      "----------------\n",
      "Epoch 9\n",
      "----------------\n",
      "Train loss: 0.26736389376147063\n",
      "----------------\n",
      "Epoch 10\n",
      "----------------\n",
      "Train loss: 0.21252334950971702\n",
      "Test loss: 2.67449328242516, accuracy: 0.8102\n",
      "----------------\n",
      "Epoch 11\n",
      "----------------\n",
      "Train loss: 0.17429787407932704\n",
      "----------------\n",
      "Epoch 12\n",
      "----------------\n",
      "Train loss: 0.10291768461592236\n",
      "----------------\n",
      "Epoch 13\n",
      "----------------\n",
      "Train loss: 0.08850410728447884\n",
      "----------------\n",
      "Epoch 14\n",
      "----------------\n",
      "Train loss: 0.0574245941491488\n",
      "----------------\n",
      "Epoch 15\n",
      "----------------\n",
      "Train loss: 0.05901914488610075\n",
      "Test loss: 3.973797012044459, accuracy: 0.79796\n",
      "----------------\n",
      "Epoch 16\n",
      "----------------\n",
      "Train loss: 0.06335012340183929\n",
      "----------------\n",
      "Epoch 17\n",
      "----------------\n",
      "Train loss: 0.07173039622422694\n",
      "----------------\n",
      "Epoch 18\n",
      "----------------\n",
      "Train loss: 0.07876810845307831\n",
      "----------------\n",
      "Epoch 19\n",
      "----------------\n",
      "Train loss: 0.08857865807897915\n",
      "----------------\n",
      "Epoch 20\n",
      "----------------\n",
      "Train loss: 0.0917611531357519\n",
      "Test loss: 4.396752340453012, accuracy: 0.8178\n",
      "----------------\n",
      "Epoch 21\n",
      "----------------\n",
      "Train loss: 0.21866644515448394\n",
      "----------------\n",
      "Epoch 22\n",
      "----------------\n",
      "Train loss: 0.21450516060680844\n",
      "----------------\n",
      "Epoch 23\n",
      "----------------\n",
      "Train loss: 0.10601575070811252\n",
      "----------------\n",
      "Epoch 24\n",
      "----------------\n",
      "Train loss: 0.04697813203165783\n",
      "----------------\n",
      "Epoch 25\n",
      "----------------\n",
      "Train loss: 0.031249844802171696\n",
      "Test loss: 4.943453514150211, accuracy: 0.8248\n",
      "----------------\n",
      "Epoch 26\n",
      "----------------\n",
      "Train loss: 0.01942488962612094\n",
      "----------------\n",
      "Epoch 27\n",
      "----------------\n",
      "Train loss: 0.04284065879548529\n",
      "----------------\n",
      "Epoch 28\n",
      "----------------\n",
      "Train loss: 0.05561723894778771\n",
      "----------------\n",
      "Epoch 29\n",
      "----------------\n",
      "Train loss: 0.08372546401057371\n",
      "----------------\n",
      "Epoch 30\n",
      "----------------\n",
      "Train loss: 0.08795052374631926\n",
      "Test loss: 6.598536348464537, accuracy: 0.82776\n",
      "----------------\n"
     ]
    }
   ],
   "source": [
    "train_loop(train_dataloader, test_dataloader, 30, 5)"
   ]
  }
 ],
 "metadata": {
  "kernelspec": {
   "display_name": "torch",
   "language": "python",
   "name": "python3"
  },
  "language_info": {
   "codemirror_mode": {
    "name": "ipython",
    "version": 3
   },
   "file_extension": ".py",
   "mimetype": "text/x-python",
   "name": "python",
   "nbconvert_exporter": "python",
   "pygments_lexer": "ipython3",
   "version": "3.10.6"
  },
  "orig_nbformat": 4,
  "vscode": {
   "interpreter": {
    "hash": "6c18ccd7e9828c22dd3d9e0895b6b7ede664ee7a11689b5790cfd0957405a6f2"
   }
  }
 },
 "nbformat": 4,
 "nbformat_minor": 2
}
