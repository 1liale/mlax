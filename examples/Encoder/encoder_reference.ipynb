{
 "cells": [
  {
   "attachments": {},
   "cell_type": "markdown",
   "metadata": {},
   "source": [
    "## Transformer Encoder Reference."
   ]
  },
  {
   "cell_type": "code",
   "execution_count": 1,
   "metadata": {},
   "outputs": [],
   "source": [
    "import torch\n",
    "from torch import nn, optim\n",
    "from torch.utils.data import DataLoader"
   ]
  },
  {
   "cell_type": "code",
   "execution_count": 2,
   "metadata": {},
   "outputs": [],
   "source": [
    "from datasets import load_dataset\n",
    "from tokenizers import Tokenizer"
   ]
  },
  {
   "cell_type": "markdown",
   "metadata": {},
   "source": [
    "### Load in the IMDB dataset."
   ]
  },
  {
   "cell_type": "code",
   "execution_count": 4,
   "metadata": {},
   "outputs": [
    {
     "name": "stderr",
     "output_type": "stream",
     "text": [
      "Found cached dataset imdb (/home/zongyf02/projects/mlax/examples/Encoder/../data/imdb/plain_text/1.0.0/d613c88cf8fa3bab83b4ded3713f1f74830d1100e171db75bbddb80b3345c9c0)\n",
      "Found cached dataset imdb (/home/zongyf02/projects/mlax/examples/Encoder/../data/imdb/plain_text/1.0.0/d613c88cf8fa3bab83b4ded3713f1f74830d1100e171db75bbddb80b3345c9c0)\n"
     ]
    }
   ],
   "source": [
    "imdb_train = load_dataset(\"imdb\", cache_dir=\"../data\", split=\"train\")\n",
    "imdb_test = load_dataset(\"imdb\", cache_dir=\"../data\", split=\"test\")"
   ]
  },
  {
   "cell_type": "code",
   "execution_count": 5,
   "metadata": {},
   "outputs": [],
   "source": [
    "tokenizer = Tokenizer.from_pretrained(\"roberta-base\")\n",
    "tokenizer.enable_truncation(512)\n",
    "tokenizer.enable_padding(length=512)"
   ]
  },
  {
   "cell_type": "code",
   "execution_count": 6,
   "metadata": {},
   "outputs": [],
   "source": [
    "def tokenization(batch):\n",
    "    encodings = tokenizer.encode_batch(batch[\"text\"])\n",
    "    batch[\"ids\"] = [encoding.ids for encoding in encodings]\n",
    "    batch[\"mask\"] = [encoding.attention_mask for encoding in encodings]\n",
    "    del batch[\"text\"]\n",
    "    return batch"
   ]
  },
  {
   "cell_type": "code",
   "execution_count": 7,
   "metadata": {},
   "outputs": [
    {
     "name": "stderr",
     "output_type": "stream",
     "text": [
      "Loading cached processed dataset at /home/zongyf02/projects/mlax/examples/data/imdb/plain_text/1.0.0/d613c88cf8fa3bab83b4ded3713f1f74830d1100e171db75bbddb80b3345c9c0/cache-b4fde54fc2b7fb90.arrow\n",
      "Loading cached processed dataset at /home/zongyf02/projects/mlax/examples/data/imdb/plain_text/1.0.0/d613c88cf8fa3bab83b4ded3713f1f74830d1100e171db75bbddb80b3345c9c0/cache-6c2db6e39d7c9c83.arrow\n"
     ]
    }
   ],
   "source": [
    "imdb_train_tokenized = imdb_train.map(\n",
    "    tokenization, batched=True, batch_size=None\n",
    ")\n",
    "imdb_test_tokenized = imdb_test.map(\n",
    "    tokenization, batched=True, batch_size=None\n",
    ")"
   ]
  },
  {
   "cell_type": "code",
   "execution_count": 8,
   "metadata": {},
   "outputs": [],
   "source": [
    "imdb_train_tokenized.set_format(type=\"torch\")\n",
    "imdb_test_tokenized.set_format(type=\"torch\")"
   ]
  },
  {
   "cell_type": "markdown",
   "metadata": {},
   "source": [
    "### Prepare dataloaders."
   ]
  },
  {
   "cell_type": "code",
   "execution_count": 9,
   "metadata": {},
   "outputs": [],
   "source": [
    "batch_size = 128\n",
    "train_dataloader = DataLoader(imdb_train_tokenized, batch_size=batch_size, shuffle=True, num_workers=0)\n",
    "test_dataloader = DataLoader(imdb_test_tokenized, batch_size=batch_size, num_workers=0)"
   ]
  },
  {
   "cell_type": "code",
   "execution_count": 3,
   "metadata": {},
   "outputs": [],
   "source": [
    "device = \"cuda\" if torch.cuda.is_available() else \"cpu\""
   ]
  },
  {
   "cell_type": "markdown",
   "metadata": {},
   "source": [
    "### Build Encoder model."
   ]
  },
  {
   "cell_type": "code",
   "execution_count": 10,
   "metadata": {},
   "outputs": [
    {
     "name": "stdout",
     "output_type": "stream",
     "text": [
      "Model(\n",
      "  (feature_embeddings): Embedding(50265, 248)\n",
      "  (pos_embeddings): Embedding(512, 8)\n",
      "  (dropout): Dropout(p=0.1, inplace=False)\n",
      "  (encoder1): TransformerEncoderLayer(\n",
      "    (self_attn): MultiheadAttention(\n",
      "      (out_proj): NonDynamicallyQuantizableLinear(in_features=256, out_features=256, bias=True)\n",
      "    )\n",
      "    (linear1): Linear(in_features=256, out_features=1024, bias=True)\n",
      "    (dropout): Dropout(p=0.1, inplace=False)\n",
      "    (linear2): Linear(in_features=1024, out_features=256, bias=True)\n",
      "    (norm1): LayerNorm((256,), eps=1e-05, elementwise_affine=True)\n",
      "    (norm2): LayerNorm((256,), eps=1e-05, elementwise_affine=True)\n",
      "    (dropout1): Dropout(p=0.1, inplace=False)\n",
      "    (dropout2): Dropout(p=0.1, inplace=False)\n",
      "  )\n",
      "  (encoder2): TransformerEncoderLayer(\n",
      "    (self_attn): MultiheadAttention(\n",
      "      (out_proj): NonDynamicallyQuantizableLinear(in_features=256, out_features=256, bias=True)\n",
      "    )\n",
      "    (linear1): Linear(in_features=256, out_features=1024, bias=True)\n",
      "    (dropout): Dropout(p=0.1, inplace=False)\n",
      "    (linear2): Linear(in_features=1024, out_features=256, bias=True)\n",
      "    (norm1): LayerNorm((256,), eps=1e-05, elementwise_affine=True)\n",
      "    (norm2): LayerNorm((256,), eps=1e-05, elementwise_affine=True)\n",
      "    (dropout1): Dropout(p=0.1, inplace=False)\n",
      "    (dropout2): Dropout(p=0.1, inplace=False)\n",
      "  )\n",
      "  (fc): Linear(in_features=131072, out_features=1, bias=True)\n",
      ")\n"
     ]
    },
    {
     "name": "stderr",
     "output_type": "stream",
     "text": [
      "/home/zongyf02/venv/torch/lib/python3.10/site-packages/torch/jit/_recursive.py:262: UserWarning: 'batch_first' was found in ScriptModule constants, but was not actually set in __init__. Consider removing it.\n",
      "  warnings.warn(\"'{}' was found in ScriptModule constants, \"\n"
     ]
    }
   ],
   "source": [
    "class Model(nn.Module):\n",
    "    def __init__(\n",
    "        self,\n",
    "        vocab_size,\n",
    "        seq_len,\n",
    "        feature_embed_dim = 248,\n",
    "        pos_embed_dim = 8,\n",
    "        num_heads = 8,\n",
    "        ff_depth = 1024,\n",
    "        act_fn=nn.functional.gelu,\n",
    "        dropout=0.1\n",
    "    ):\n",
    "        super().__init__()\n",
    "        self.feature_embeddings = nn.Embedding(vocab_size, feature_embed_dim)\n",
    "        self.pos_embeddings = nn.Embedding(seq_len, pos_embed_dim)\n",
    "        self.pos_idx = nn.Parameter(torch.arange(seq_len), requires_grad=False)\n",
    "        self.dropout = nn.Dropout(dropout)\n",
    "\n",
    "        embed_dim = feature_embed_dim + pos_embed_dim\n",
    "        self.encoder1 = nn.TransformerEncoderLayer(\n",
    "            embed_dim,\n",
    "            num_heads,\n",
    "            ff_depth,\n",
    "            dropout,\n",
    "            act_fn,\n",
    "            batch_first=True\n",
    "        )\n",
    "        self.encoder2 = nn.TransformerEncoderLayer(\n",
    "            embed_dim,\n",
    "            num_heads,\n",
    "            ff_depth,\n",
    "            dropout,\n",
    "            act_fn,\n",
    "            batch_first=True\n",
    "        )\n",
    "\n",
    "        self.fc = nn.Linear(embed_dim * seq_len, 1)\n",
    "\n",
    "    def forward(self, ids, mask):\n",
    "        embeddings = self.feature_embeddings(ids)\n",
    "        pos_embeddings = self.pos_embeddings(\n",
    "            torch.broadcast_to(self.pos_idx, ids.shape)\n",
    "        )\n",
    "        embeddings = torch.cat((embeddings, pos_embeddings), dim=-1)\n",
    "        embeddings = self.dropout(embeddings)\n",
    "\n",
    "        activations = self.encoder1(embeddings, src_key_padding_mask=mask)\n",
    "        activations = self.encoder2(embeddings, src_key_padding_mask=mask)\n",
    "        activations = torch.reshape(activations, (len(activations), -1))\n",
    "        activations = self.fc(activations)\n",
    "        return torch.squeeze(activations)\n",
    "\n",
    "model = Model(tokenizer.get_vocab_size(), 512)\n",
    "print(model)\n",
    "model = torch.jit.script(model)"
   ]
  },
  {
   "attachments": {},
   "cell_type": "markdown",
   "metadata": {},
   "source": [
    "### Define loss function and optimizer."
   ]
  },
  {
   "cell_type": "code",
   "execution_count": 16,
   "metadata": {},
   "outputs": [],
   "source": [
    "bce = torch.jit.script(nn.BCEWithLogitsLoss())\n",
    "adamw = optim.AdamW(model.parameters(), lr=5e-4, weight_decay=1e-2)"
   ]
  },
  {
   "cell_type": "markdown",
   "metadata": {},
   "source": [
    "### Define training and testing loops."
   ]
  },
  {
   "cell_type": "code",
   "execution_count": 17,
   "metadata": {},
   "outputs": [],
   "source": [
    "def train(dataloader, model, loss_fn, optimizer, device):\n",
    "    model.to(device)\n",
    "    model.train()\n",
    "\n",
    "    train_loss = 0.0\n",
    "    for batch in dataloader:\n",
    "        loss = loss_fn(\n",
    "            model(\n",
    "                batch[\"ids\"].to(device),\n",
    "                torch.logical_not(batch[\"mask\"].type(torch.bool)).to(device)\n",
    "            ),\n",
    "            batch[\"label\"].type(torch.float).to(device)\n",
    "        )\n",
    "        train_loss += loss\n",
    "\n",
    "        optimizer.zero_grad()\n",
    "        loss.backward()\n",
    "        optimizer.step()\n",
    "\n",
    "    print(f\"Train loss: {train_loss / len(dataloader)}\")"
   ]
  },
  {
   "cell_type": "code",
   "execution_count": 18,
   "metadata": {},
   "outputs": [],
   "source": [
    "def test(dataloader, model, loss_fn, device):\n",
    "    model.to(device)\n",
    "    model.eval()\n",
    "\n",
    "    test_loss, accurate = 0.0, 0\n",
    "    with torch.no_grad():\n",
    "        for batch in dataloader:\n",
    "            y = batch[\"label\"].type(torch.float).to(device)\n",
    "            pred = model(\n",
    "                batch[\"ids\"].to(device),\n",
    "                torch.logical_not(batch[\"mask\"].type(torch.bool)).to(device)\n",
    "            )\n",
    "            test_loss += loss_fn(pred, y).item()\n",
    "            accurate += (torch.sigmoid(pred).round() == y).sum().item()\n",
    "    print(f\"Test loss: {test_loss / len(dataloader)}, accuracy: {accurate / len(dataloader.dataset)}\")"
   ]
  },
  {
   "cell_type": "code",
   "execution_count": 19,
   "metadata": {},
   "outputs": [],
   "source": [
    "def train_loop(\n",
    "    train_dataloader,\n",
    "    test_dataloader,\n",
    "    model, loss_fn, optimizer,\n",
    "    device,\n",
    "    epochs, test_every):\n",
    "    for i in range(epochs):\n",
    "        epoch = (i + 1)\n",
    "        print(f\"Epoch {epoch}\\n----------------\")\n",
    "        train(train_dataloader, model, loss_fn, optimizer, device)\n",
    "        if (epoch % test_every == 0):\n",
    "            test(test_dataloader, model, loss_fn, device)\n",
    "        print(f\"----------------\")"
   ]
  },
  {
   "cell_type": "markdown",
   "metadata": {},
   "source": [
    "## Train Encoder on the IMDB dataset."
   ]
  },
  {
   "cell_type": "code",
   "execution_count": 20,
   "metadata": {},
   "outputs": [
    {
     "name": "stdout",
     "output_type": "stream",
     "text": [
      "Epoch 1\n",
      "----------------\n",
      "Train loss: 0.026605423539876938\n",
      "Test loss: 1.117602876862701, accuracy: 0.80508\n",
      "----------------\n",
      "Epoch 2\n",
      "----------------\n",
      "Train loss: 0.024192167446017265\n",
      "Test loss: 1.2074286858646237, accuracy: 0.79644\n",
      "----------------\n",
      "Epoch 3\n",
      "----------------\n",
      "Train loss: 0.03228404372930527\n",
      "Test loss: 1.3317240836973092, accuracy: 0.80936\n",
      "----------------\n",
      "Epoch 4\n",
      "----------------\n",
      "Train loss: 0.030083132907748222\n",
      "Test loss: 1.3468441015907697, accuracy: 0.81212\n",
      "----------------\n",
      "Epoch 5\n",
      "----------------\n",
      "Train loss: 0.022066554054617882\n",
      "Test loss: 1.4045106285080617, accuracy: 0.81892\n",
      "----------------\n",
      "Epoch 6\n",
      "----------------\n",
      "Train loss: 0.014758866280317307\n",
      "Test loss: 1.4636627993717486, accuracy: 0.80676\n",
      "----------------\n",
      "Epoch 7\n",
      "----------------\n",
      "Train loss: 0.01156957633793354\n",
      "Test loss: 1.4085638086710657, accuracy: 0.8092\n",
      "----------------\n",
      "Epoch 8\n",
      "----------------\n",
      "Train loss: 0.009076050482690334\n",
      "Test loss: 1.4104419175763518, accuracy: 0.81156\n",
      "----------------\n",
      "Epoch 9\n",
      "----------------\n",
      "Train loss: 0.009400229901075363\n",
      "Test loss: 1.4727920617680161, accuracy: 0.81912\n",
      "----------------\n",
      "Epoch 10\n",
      "----------------\n",
      "Train loss: 0.009034387767314911\n",
      "Test loss: 1.4822933765090243, accuracy: 0.80724\n",
      "----------------\n"
     ]
    }
   ],
   "source": [
    "train_loop(train_dataloader, test_dataloader, model, bce, adamw, device, 10, 1)"
   ]
  }
 ],
 "metadata": {
  "kernelspec": {
   "display_name": "torch",
   "language": "python",
   "name": "python3"
  },
  "language_info": {
   "codemirror_mode": {
    "name": "ipython",
    "version": 3
   },
   "file_extension": ".py",
   "mimetype": "text/x-python",
   "name": "python",
   "nbconvert_exporter": "python",
   "pygments_lexer": "ipython3",
   "version": "3.10.6"
  },
  "orig_nbformat": 4,
  "vscode": {
   "interpreter": {
    "hash": "6c18ccd7e9828c22dd3d9e0895b6b7ede664ee7a11689b5790cfd0957405a6f2"
   }
  }
 },
 "nbformat": 4,
 "nbformat_minor": 2
}
