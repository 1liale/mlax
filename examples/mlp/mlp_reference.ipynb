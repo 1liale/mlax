{
 "cells": [
  {
   "cell_type": "markdown",
   "metadata": {},
   "source": [
    "# MLP Reference Implementation in Pytorch.\n",
    "\n",
    "This implementation is based on Pytorch's FashionMNIST example in its\n",
    "[quickstart](https://pytorch.org/tutorials/beginner/basics/quickstart_tutorial.html).\n",
    "\n",
    "See the mlax implementation in `mlp.ipynb` notebook."
   ]
  },
  {
   "cell_type": "code",
   "execution_count": 13,
   "metadata": {},
   "outputs": [],
   "source": [
    "import torch\n",
    "from torch import nn, optim\n",
    "from torch.utils.data import DataLoader\n",
    "import torchvision"
   ]
  },
  {
   "cell_type": "markdown",
   "metadata": {},
   "source": [
    "### Load the MNIST dataset"
   ]
  },
  {
   "cell_type": "code",
   "execution_count": 14,
   "metadata": {},
   "outputs": [
    {
     "name": "stdout",
     "output_type": "stream",
     "text": [
      "torch.Size([60000, 28, 28])\n",
      "torch.Size([10000, 28, 28])\n"
     ]
    }
   ],
   "source": [
    "mnist_train = torchvision.datasets.MNIST(\n",
    "    root=\"../data\",\n",
    "    train=True,\n",
    "    download=True,\n",
    "    transform=torchvision.transforms.ToTensor()\n",
    ")\n",
    "mnist_test = torchvision.datasets.MNIST(\n",
    "    root=\"../data\",\n",
    "    train=False,\n",
    "    download=True,\n",
    "    transform=torchvision.transforms.ToTensor()\n",
    ")\n",
    "print(mnist_train.data.shape)\n",
    "print(mnist_test.data.shape)"
   ]
  },
  {
   "cell_type": "markdown",
   "metadata": {},
   "source": [
    "### Batch the MNIST data with Pytorch dataloaders"
   ]
  },
  {
   "cell_type": "code",
   "execution_count": 15,
   "metadata": {},
   "outputs": [
    {
     "name": "stdout",
     "output_type": "stream",
     "text": [
      "938 157\n"
     ]
    }
   ],
   "source": [
    "# Note data is not shuffled\n",
    "train_dataloader = DataLoader(mnist_train, batch_size=64)\n",
    "test_dataloader = DataLoader(mnist_test, batch_size=64)\n",
    "print(len(train_dataloader), len(test_dataloader))"
   ]
  },
  {
   "cell_type": "code",
   "execution_count": 16,
   "metadata": {},
   "outputs": [],
   "source": [
    "device = \"cuda\" if torch.cuda.is_available() else \"cpu\""
   ]
  },
  {
   "cell_type": "markdown",
   "metadata": {},
   "source": [
    "### Define MLP using modules.\n",
    "We jit-compiled the model for better performance."
   ]
  },
  {
   "cell_type": "code",
   "execution_count": 17,
   "metadata": {},
   "outputs": [
    {
     "name": "stdout",
     "output_type": "stream",
     "text": [
      "MLP(\n",
      "  (flatten): Flatten(start_dim=1, end_dim=-1)\n",
      "  (linear_stack): Sequential(\n",
      "    (0): Linear(in_features=784, out_features=512, bias=True)\n",
      "    (1): ReLU()\n",
      "    (2): Linear(in_features=512, out_features=512, bias=True)\n",
      "    (3): ReLU()\n",
      "    (4): Linear(in_features=512, out_features=10, bias=True)\n",
      "  )\n",
      ")\n"
     ]
    }
   ],
   "source": [
    "class MLP(nn.Module):\n",
    "    def __init__(self):\n",
    "        super().__init__()\n",
    "        self.flatten = nn.Flatten()\n",
    "        self.linear_stack = nn.Sequential(\n",
    "            nn.Linear(28*28, 512),\n",
    "            nn.ReLU(),\n",
    "            nn.Linear(512, 512),\n",
    "            nn.ReLU(),\n",
    "            nn.Linear(512, 10)\n",
    "        )\n",
    "    \n",
    "    def forward(self, batch):\n",
    "        flattened = self.flatten(batch)\n",
    "        logits = self.linear_stack(flattened)\n",
    "        return logits\n",
    "\n",
    "model = MLP()\n",
    "print(model)\n",
    "model = torch.jit.script(model)"
   ]
  },
  {
   "cell_type": "markdown",
   "metadata": {},
   "source": [
    "### Define loss function and optimizer\n",
    "We also jit-compiled the loss function."
   ]
  },
  {
   "cell_type": "code",
   "execution_count": 18,
   "metadata": {},
   "outputs": [],
   "source": [
    "cross_entropy = torch.jit.script(nn.CrossEntropyLoss())\n",
    "sgd = optim.SGD(model.parameters(), lr=5e-3, momentum=0.6)"
   ]
  },
  {
   "cell_type": "markdown",
   "metadata": {},
   "source": [
    "### Define training and testing loops"
   ]
  },
  {
   "cell_type": "code",
   "execution_count": 19,
   "metadata": {},
   "outputs": [],
   "source": [
    "def train(dataloader, model, loss_fn, optimizer, device):\n",
    "    model.to(device)\n",
    "    model.train()\n",
    "\n",
    "    train_loss = 0\n",
    "    for X, y in dataloader:\n",
    "        X, y = X.to(device), y.to(device)\n",
    "        \n",
    "        loss = loss_fn(model(X), y)\n",
    "        train_loss += loss\n",
    "\n",
    "        optimizer.zero_grad()\n",
    "        loss.backward()\n",
    "        optimizer.step()\n",
    "\n",
    "    print(f\"Train loss: {train_loss / len(dataloader)}\")"
   ]
  },
  {
   "cell_type": "code",
   "execution_count": 20,
   "metadata": {},
   "outputs": [],
   "source": [
    "def test(dataloader, model, loss_fn, device):\n",
    "    model.to(device)\n",
    "    model.eval()\n",
    "\n",
    "    test_loss, accurate = 0, 0\n",
    "    with torch.no_grad():\n",
    "        for X, y in dataloader:\n",
    "            X, y = X.to(device), y.to(device)\n",
    "            pred = model(X)\n",
    "            test_loss += loss_fn(pred, y).item()\n",
    "            accurate += (pred.argmax(1) == y).type(torch.float).sum().item()\n",
    "    \n",
    "    print(f\"Test loss: {test_loss / len(dataloader)}, accuracy: {accurate / len(dataloader.dataset)}\")"
   ]
  },
  {
   "cell_type": "code",
   "execution_count": 21,
   "metadata": {},
   "outputs": [],
   "source": [
    "def train_loop(\n",
    "    train_dataloader,\n",
    "    test_dataloader,\n",
    "    model, loss_fn, optimizer,\n",
    "    device,\n",
    "    epochs, test_every):\n",
    "    for i in range(epochs):\n",
    "        epoch = (i + 1)\n",
    "        print(f\"Epoch {epoch}\\n----------------\")\n",
    "        train(train_dataloader, model, loss_fn, optimizer, device)\n",
    "        if (epoch % test_every == 0):\n",
    "            test(test_dataloader, model, loss_fn, device)\n",
    "        print(f\"----------------\")"
   ]
  },
  {
   "cell_type": "markdown",
   "metadata": {},
   "source": [
    "### Train MLP on MNIST dataset"
   ]
  },
  {
   "cell_type": "code",
   "execution_count": 22,
   "metadata": {},
   "outputs": [
    {
     "name": "stdout",
     "output_type": "stream",
     "text": [
      "Epoch 1\n",
      "----------------\n",
      "Train loss: 1.3510757684707642\n",
      "----------------\n",
      "Epoch 2\n",
      "----------------\n",
      "Train loss: 0.43357279896736145\n",
      "----------------\n",
      "Epoch 3\n",
      "----------------\n",
      "Train loss: 0.3417237102985382\n",
      "----------------\n",
      "Epoch 4\n",
      "----------------\n",
      "Train loss: 0.30280596017837524\n",
      "----------------\n",
      "Epoch 5\n",
      "----------------\n",
      "Train loss: 0.27543023228645325\n",
      "Test loss: 0.2568127239051803, accuracy: 0.9262\n",
      "----------------\n",
      "Epoch 6\n",
      "----------------\n",
      "Train loss: 0.2528309226036072\n",
      "----------------\n",
      "Epoch 7\n",
      "----------------\n",
      "Train loss: 0.23301911354064941\n",
      "----------------\n",
      "Epoch 8\n",
      "----------------\n",
      "Train loss: 0.2154708057641983\n",
      "----------------\n",
      "Epoch 9\n",
      "----------------\n",
      "Train loss: 0.199888676404953\n",
      "----------------\n",
      "Epoch 10\n",
      "----------------\n",
      "Train loss: 0.18600741028785706\n",
      "Test loss: 0.1787177271203725, accuracy: 0.9471\n",
      "----------------\n",
      "Epoch 11\n",
      "----------------\n",
      "Train loss: 0.1735566258430481\n",
      "----------------\n",
      "Epoch 12\n",
      "----------------\n",
      "Train loss: 0.1623387634754181\n",
      "----------------\n",
      "Epoch 13\n",
      "----------------\n",
      "Train loss: 0.15216943621635437\n",
      "----------------\n",
      "Epoch 14\n",
      "----------------\n",
      "Train loss: 0.1429561972618103\n",
      "----------------\n",
      "Epoch 15\n",
      "----------------\n",
      "Train loss: 0.13456961512565613\n",
      "Test loss: 0.13498801381511102, accuracy: 0.9599\n",
      "----------------\n",
      "Epoch 16\n",
      "----------------\n",
      "Train loss: 0.12692078948020935\n",
      "----------------\n",
      "Epoch 17\n",
      "----------------\n",
      "Train loss: 0.11993111670017242\n",
      "----------------\n",
      "Epoch 18\n",
      "----------------\n",
      "Train loss: 0.11349170655012131\n",
      "----------------\n",
      "Epoch 19\n",
      "----------------\n",
      "Train loss: 0.10758328437805176\n",
      "----------------\n",
      "Epoch 20\n",
      "----------------\n",
      "Train loss: 0.10212478041648865\n",
      "Test loss: 0.11022003404173264, accuracy: 0.9667\n",
      "----------------\n",
      "Epoch 21\n",
      "----------------\n",
      "Train loss: 0.0970425009727478\n",
      "----------------\n",
      "Epoch 22\n",
      "----------------\n",
      "Train loss: 0.09231742471456528\n",
      "----------------\n",
      "Epoch 23\n",
      "----------------\n",
      "Train loss: 0.08792268484830856\n",
      "----------------\n",
      "Epoch 24\n",
      "----------------\n",
      "Train loss: 0.083805151283741\n",
      "----------------\n",
      "Epoch 25\n",
      "----------------\n",
      "Train loss: 0.07995302230119705\n",
      "Test loss: 0.0949145646159282, accuracy: 0.9721\n",
      "----------------\n",
      "Epoch 26\n",
      "----------------\n",
      "Train loss: 0.07633195072412491\n",
      "----------------\n",
      "Epoch 27\n",
      "----------------\n",
      "Train loss: 0.07294060289859772\n",
      "----------------\n",
      "Epoch 28\n",
      "----------------\n",
      "Train loss: 0.06974730640649796\n",
      "----------------\n",
      "Epoch 29\n",
      "----------------\n",
      "Train loss: 0.06673653423786163\n",
      "----------------\n",
      "Epoch 30\n",
      "----------------\n",
      "Train loss: 0.06390298902988434\n",
      "Test loss: 0.08487512481659888, accuracy: 0.9747\n",
      "----------------\n",
      "Epoch 31\n",
      "----------------\n",
      "Train loss: 0.06121112406253815\n",
      "----------------\n",
      "Epoch 32\n",
      "----------------\n",
      "Train loss: 0.05866875872015953\n",
      "----------------\n",
      "Epoch 33\n",
      "----------------\n",
      "Train loss: 0.05626704916357994\n",
      "----------------\n",
      "Epoch 34\n",
      "----------------\n",
      "Train loss: 0.053984351456165314\n",
      "----------------\n",
      "Epoch 35\n",
      "----------------\n",
      "Train loss: 0.05181751400232315\n",
      "Test loss: 0.07804547802798723, accuracy: 0.9772\n",
      "----------------\n",
      "Epoch 36\n",
      "----------------\n",
      "Train loss: 0.04976450279355049\n",
      "----------------\n",
      "Epoch 37\n",
      "----------------\n",
      "Train loss: 0.04780971258878708\n",
      "----------------\n",
      "Epoch 38\n",
      "----------------\n",
      "Train loss: 0.04595169797539711\n",
      "----------------\n",
      "Epoch 39\n",
      "----------------\n",
      "Train loss: 0.04418932646512985\n",
      "----------------\n",
      "Epoch 40\n",
      "----------------\n",
      "Train loss: 0.04250653088092804\n",
      "Test loss: 0.07337944959101243, accuracy: 0.9778\n",
      "----------------\n",
      "Epoch 41\n",
      "----------------\n",
      "Train loss: 0.04089698940515518\n",
      "----------------\n",
      "Epoch 42\n",
      "----------------\n",
      "Train loss: 0.039364829659461975\n",
      "----------------\n",
      "Epoch 43\n",
      "----------------\n",
      "Train loss: 0.037896864116191864\n",
      "----------------\n",
      "Epoch 44\n",
      "----------------\n",
      "Train loss: 0.03650051727890968\n",
      "----------------\n",
      "Epoch 45\n",
      "----------------\n",
      "Train loss: 0.035160914063453674\n",
      "Test loss: 0.07010264629809554, accuracy: 0.9788\n",
      "----------------\n",
      "Epoch 46\n",
      "----------------\n",
      "Train loss: 0.0338837131857872\n",
      "----------------\n",
      "Epoch 47\n",
      "----------------\n",
      "Train loss: 0.03265402466058731\n",
      "----------------\n",
      "Epoch 48\n",
      "----------------\n",
      "Train loss: 0.031476184725761414\n",
      "----------------\n",
      "Epoch 49\n",
      "----------------\n",
      "Train loss: 0.030351316556334496\n",
      "----------------\n",
      "Epoch 50\n",
      "----------------\n",
      "Train loss: 0.029270678758621216\n",
      "Test loss: 0.06794272413737568, accuracy: 0.9791\n",
      "----------------\n"
     ]
    }
   ],
   "source": [
    "train_loop(train_dataloader, test_dataloader, model, cross_entropy, sgd, device, 50, 5)"
   ]
  }
 ],
 "metadata": {
  "kernelspec": {
   "display_name": "Python 3.10.6 ('ML': venv)",
   "language": "python",
   "name": "python3"
  },
  "language_info": {
   "codemirror_mode": {
    "name": "ipython",
    "version": 3
   },
   "file_extension": ".py",
   "mimetype": "text/x-python",
   "name": "python",
   "nbconvert_exporter": "python",
   "pygments_lexer": "ipython3",
   "version": "3.10.6"
  },
  "orig_nbformat": 4,
  "vscode": {
   "interpreter": {
    "hash": "5c2eae4f387f48c6f060ba94db73f9ed1c3f6b20f388481d7647fcca09c0c17a"
   }
  }
 },
 "nbformat": 4,
 "nbformat_minor": 2
}
