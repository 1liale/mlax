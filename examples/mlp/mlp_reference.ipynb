{
 "cells": [
  {
   "cell_type": "markdown",
   "metadata": {},
   "source": [
    "# MLP Reference Implementation in Pytorch.\n",
    "\n",
    "This implementation is based on Pytorch's FashionMNIST example in its\n",
    "[quickstart](https://pytorch.org/tutorials/beginner/basics/quickstart_tutorial.html).\n",
    "\n",
    "See the mlax implementation in `mlp.ipynb` notebook."
   ]
  },
  {
   "cell_type": "code",
   "execution_count": 1,
   "metadata": {},
   "outputs": [],
   "source": [
    "import torch\n",
    "from torch import nn, optim\n",
    "from torch.utils.data import DataLoader\n",
    "import torchvision"
   ]
  },
  {
   "cell_type": "markdown",
   "metadata": {},
   "source": [
    "### Load the MNIST dataset"
   ]
  },
  {
   "cell_type": "code",
   "execution_count": 2,
   "metadata": {},
   "outputs": [
    {
     "name": "stdout",
     "output_type": "stream",
     "text": [
      "torch.Size([60000, 28, 28])\n",
      "torch.Size([10000, 28, 28])\n"
     ]
    }
   ],
   "source": [
    "mnist_train = torchvision.datasets.MNIST(\n",
    "    root=\"../data\",\n",
    "    train=True,\n",
    "    download=True,\n",
    "    transform=torchvision.transforms.ToTensor()\n",
    ")\n",
    "mnist_test = torchvision.datasets.MNIST(\n",
    "    root=\"../data\",\n",
    "    train=False,\n",
    "    download=True,\n",
    "    transform=torchvision.transforms.ToTensor()\n",
    ")\n",
    "print(mnist_train.data.shape)\n",
    "print(mnist_test.data.shape)"
   ]
  },
  {
   "cell_type": "markdown",
   "metadata": {},
   "source": [
    "### Batch the MNIST data with Pytorch dataloaders"
   ]
  },
  {
   "cell_type": "code",
   "execution_count": 3,
   "metadata": {},
   "outputs": [
    {
     "name": "stdout",
     "output_type": "stream",
     "text": [
      "938 157\n"
     ]
    }
   ],
   "source": [
    "# Note data is not shuffled\n",
    "train_dataloader = DataLoader(mnist_train, batch_size=64, num_workers=8)\n",
    "test_dataloader = DataLoader(mnist_test, batch_size=64, num_workers=8)\n",
    "print(len(train_dataloader), len(test_dataloader))"
   ]
  },
  {
   "cell_type": "code",
   "execution_count": 4,
   "metadata": {},
   "outputs": [],
   "source": [
    "device = \"cuda\" if torch.cuda.is_available() else \"cpu\""
   ]
  },
  {
   "cell_type": "markdown",
   "metadata": {},
   "source": [
    "### Define MLP using modules.\n",
    "We jit-compiled the model for better performance."
   ]
  },
  {
   "cell_type": "code",
   "execution_count": 5,
   "metadata": {},
   "outputs": [
    {
     "name": "stdout",
     "output_type": "stream",
     "text": [
      "MLP(\n",
      "  (flatten): Flatten(start_dim=1, end_dim=-1)\n",
      "  (linear_stack): Sequential(\n",
      "    (0): Linear(in_features=784, out_features=512, bias=True)\n",
      "    (1): ReLU()\n",
      "    (2): Linear(in_features=512, out_features=512, bias=True)\n",
      "    (3): ReLU()\n",
      "    (4): Linear(in_features=512, out_features=10, bias=True)\n",
      "  )\n",
      ")\n"
     ]
    }
   ],
   "source": [
    "class MLP(nn.Module):\n",
    "    def __init__(self):\n",
    "        super().__init__()\n",
    "        self.flatten = nn.Flatten()\n",
    "        self.linear_stack = nn.Sequential(\n",
    "            nn.Linear(28*28, 512),\n",
    "            nn.ReLU(),\n",
    "            nn.Linear(512, 512),\n",
    "            nn.ReLU(),\n",
    "            nn.Linear(512, 10)\n",
    "        )\n",
    "    \n",
    "    def forward(self, batch):\n",
    "        flattened = self.flatten(batch)\n",
    "        logits = self.linear_stack(flattened)\n",
    "        return logits\n",
    "\n",
    "model = MLP()\n",
    "print(model)\n",
    "model = torch.jit.script(model)"
   ]
  },
  {
   "cell_type": "markdown",
   "metadata": {},
   "source": [
    "### Define loss function and optimizer\n",
    "We also jit-compiled the loss function."
   ]
  },
  {
   "cell_type": "code",
   "execution_count": 6,
   "metadata": {},
   "outputs": [],
   "source": [
    "cross_entropy = torch.jit.script(nn.CrossEntropyLoss())\n",
    "sgd = optim.SGD(model.parameters(), lr=5e-3, momentum=0.6)"
   ]
  },
  {
   "cell_type": "markdown",
   "metadata": {},
   "source": [
    "### Define training and testing loops"
   ]
  },
  {
   "cell_type": "code",
   "execution_count": 7,
   "metadata": {},
   "outputs": [],
   "source": [
    "def train(dataloader, model, loss_fn, optimizer, device):\n",
    "    model.to(device)\n",
    "    model.train()\n",
    "\n",
    "    train_loss = 0\n",
    "    for X, y in dataloader:\n",
    "        X, y = X.to(device), y.to(device)\n",
    "        \n",
    "        loss = loss_fn(model(X), y)\n",
    "        train_loss += loss\n",
    "\n",
    "        optimizer.zero_grad()\n",
    "        loss.backward()\n",
    "        optimizer.step()\n",
    "\n",
    "    print(f\"Train loss: {train_loss / len(dataloader)}\")"
   ]
  },
  {
   "cell_type": "code",
   "execution_count": 8,
   "metadata": {},
   "outputs": [],
   "source": [
    "def test(dataloader, model, loss_fn, device):\n",
    "    model.to(device)\n",
    "    model.eval()\n",
    "\n",
    "    test_loss, accurate = 0, 0\n",
    "    with torch.no_grad():\n",
    "        for X, y in dataloader:\n",
    "            X, y = X.to(device), y.to(device)\n",
    "            pred = model(X)\n",
    "            test_loss += loss_fn(pred, y).item()\n",
    "            accurate += (pred.argmax(1) == y).type(torch.float).sum().item()\n",
    "    \n",
    "    print(f\"Test loss: {test_loss / len(dataloader)}, accuracy: {accurate / len(dataloader.dataset)}\")"
   ]
  },
  {
   "cell_type": "code",
   "execution_count": 9,
   "metadata": {},
   "outputs": [],
   "source": [
    "def train_loop(\n",
    "    train_dataloader,\n",
    "    test_dataloader,\n",
    "    model, loss_fn, optimizer,\n",
    "    device,\n",
    "    epochs, test_every):\n",
    "    for i in range(epochs):\n",
    "        epoch = (i + 1)\n",
    "        print(f\"Epoch {epoch}\\n----------------\")\n",
    "        train(train_dataloader, model, loss_fn, optimizer, device)\n",
    "        if (epoch % test_every == 0):\n",
    "            test(test_dataloader, model, loss_fn, device)\n",
    "        print(f\"----------------\")"
   ]
  },
  {
   "cell_type": "markdown",
   "metadata": {},
   "source": [
    "### Train MLP on MNIST dataset"
   ]
  },
  {
   "cell_type": "code",
   "execution_count": 10,
   "metadata": {},
   "outputs": [
    {
     "name": "stdout",
     "output_type": "stream",
     "text": [
      "Epoch 1\n",
      "----------------\n",
      "Train loss: 1.3777949810028076\n",
      "----------------\n",
      "Epoch 2\n",
      "----------------\n",
      "Train loss: 0.4395025670528412\n",
      "----------------\n",
      "Epoch 3\n",
      "----------------\n",
      "Train loss: 0.3437221944332123\n",
      "----------------\n",
      "Epoch 4\n",
      "----------------\n",
      "Train loss: 0.303284227848053\n",
      "----------------\n",
      "Epoch 5\n",
      "----------------\n",
      "Train loss: 0.2752649486064911\n",
      "Test loss: 0.25472783488310446, accuracy: 0.926\n",
      "----------------\n",
      "Epoch 6\n",
      "----------------\n",
      "Train loss: 0.252262681722641\n",
      "----------------\n",
      "Epoch 7\n",
      "----------------\n",
      "Train loss: 0.2320365011692047\n",
      "----------------\n",
      "Epoch 8\n",
      "----------------\n",
      "Train loss: 0.2139756828546524\n",
      "----------------\n",
      "Epoch 9\n",
      "----------------\n",
      "Train loss: 0.197910875082016\n",
      "----------------\n",
      "Epoch 10\n",
      "----------------\n",
      "Train loss: 0.1836814284324646\n",
      "Test loss: 0.17493601092641617, accuracy: 0.9493\n",
      "----------------\n",
      "Epoch 11\n",
      "----------------\n",
      "Train loss: 0.17109450697898865\n",
      "----------------\n",
      "Epoch 12\n",
      "----------------\n",
      "Train loss: 0.15990100800991058\n",
      "----------------\n",
      "Epoch 13\n",
      "----------------\n",
      "Train loss: 0.14988401532173157\n",
      "----------------\n",
      "Epoch 14\n",
      "----------------\n",
      "Train loss: 0.14087623357772827\n",
      "----------------\n",
      "Epoch 15\n",
      "----------------\n",
      "Train loss: 0.1327466517686844\n",
      "Test loss: 0.13251363973661212, accuracy: 0.9611\n",
      "----------------\n",
      "Epoch 16\n",
      "----------------\n",
      "Train loss: 0.12535613775253296\n",
      "----------------\n",
      "Epoch 17\n",
      "----------------\n",
      "Train loss: 0.11861152201890945\n",
      "----------------\n",
      "Epoch 18\n",
      "----------------\n",
      "Train loss: 0.11242446303367615\n",
      "----------------\n",
      "Epoch 19\n",
      "----------------\n",
      "Train loss: 0.10670138895511627\n",
      "----------------\n",
      "Epoch 20\n",
      "----------------\n",
      "Train loss: 0.10139504075050354\n",
      "Test loss: 0.10912830975784618, accuracy: 0.9676\n",
      "----------------\n",
      "Epoch 21\n",
      "----------------\n",
      "Train loss: 0.09646536409854889\n",
      "----------------\n",
      "Epoch 22\n",
      "----------------\n",
      "Train loss: 0.09187796711921692\n",
      "----------------\n",
      "Epoch 23\n",
      "----------------\n",
      "Train loss: 0.08759096264839172\n",
      "----------------\n",
      "Epoch 24\n",
      "----------------\n",
      "Train loss: 0.08357386291027069\n",
      "----------------\n",
      "Epoch 25\n",
      "----------------\n",
      "Train loss: 0.07979582995176315\n",
      "Test loss: 0.09485646278210352, accuracy: 0.9712\n",
      "----------------\n",
      "Epoch 26\n",
      "----------------\n",
      "Train loss: 0.07625916600227356\n",
      "----------------\n",
      "Epoch 27\n",
      "----------------\n",
      "Train loss: 0.07293977588415146\n",
      "----------------\n",
      "Epoch 28\n",
      "----------------\n",
      "Train loss: 0.06981254369020462\n",
      "----------------\n",
      "Epoch 29\n",
      "----------------\n",
      "Train loss: 0.06686265766620636\n",
      "----------------\n",
      "Epoch 30\n",
      "----------------\n",
      "Train loss: 0.06408201158046722\n",
      "Test loss: 0.08542579644846071, accuracy: 0.9742\n",
      "----------------\n",
      "Epoch 31\n",
      "----------------\n",
      "Train loss: 0.06144837290048599\n",
      "----------------\n",
      "Epoch 32\n",
      "----------------\n",
      "Train loss: 0.05896060913801193\n",
      "----------------\n",
      "Epoch 33\n",
      "----------------\n",
      "Train loss: 0.056597910821437836\n",
      "----------------\n",
      "Epoch 34\n",
      "----------------\n",
      "Train loss: 0.054349929094314575\n",
      "----------------\n",
      "Epoch 35\n",
      "----------------\n",
      "Train loss: 0.05222062021493912\n",
      "Test loss: 0.0788852435278641, accuracy: 0.9762\n",
      "----------------\n",
      "Epoch 36\n",
      "----------------\n",
      "Train loss: 0.050186995416879654\n",
      "----------------\n",
      "Epoch 37\n",
      "----------------\n",
      "Train loss: 0.04824550077319145\n",
      "----------------\n",
      "Epoch 38\n",
      "----------------\n",
      "Train loss: 0.04639264568686485\n",
      "----------------\n",
      "Epoch 39\n",
      "----------------\n",
      "Train loss: 0.044627465307712555\n",
      "----------------\n",
      "Epoch 40\n",
      "----------------\n",
      "Train loss: 0.04293761029839516\n",
      "Test loss: 0.07420134434741951, accuracy: 0.9777\n",
      "----------------\n",
      "Epoch 41\n",
      "----------------\n",
      "Train loss: 0.04131815582513809\n",
      "----------------\n",
      "Epoch 42\n",
      "----------------\n",
      "Train loss: 0.03977356478571892\n",
      "----------------\n",
      "Epoch 43\n",
      "----------------\n",
      "Train loss: 0.03828273341059685\n",
      "----------------\n",
      "Epoch 44\n",
      "----------------\n",
      "Train loss: 0.03687115013599396\n",
      "----------------\n",
      "Epoch 45\n",
      "----------------\n",
      "Train loss: 0.03551336005330086\n",
      "Test loss: 0.07089514221223427, accuracy: 0.9785\n",
      "----------------\n",
      "Epoch 46\n",
      "----------------\n",
      "Train loss: 0.03421049565076828\n",
      "----------------\n",
      "Epoch 47\n",
      "----------------\n",
      "Train loss: 0.03296676650643349\n",
      "----------------\n",
      "Epoch 48\n",
      "----------------\n",
      "Train loss: 0.031772758811712265\n",
      "----------------\n",
      "Epoch 49\n",
      "----------------\n",
      "Train loss: 0.03062545508146286\n",
      "----------------\n",
      "Epoch 50\n",
      "----------------\n",
      "Train loss: 0.029521865770220757\n",
      "Test loss: 0.06851743557008434, accuracy: 0.9791\n",
      "----------------\n"
     ]
    }
   ],
   "source": [
    "train_loop(train_dataloader, test_dataloader, model, cross_entropy, sgd, device, 50, 5)"
   ]
  }
 ],
 "metadata": {
  "kernelspec": {
   "display_name": "Python 3.10.6 ('ML': venv)",
   "language": "python",
   "name": "python3"
  },
  "language_info": {
   "codemirror_mode": {
    "name": "ipython",
    "version": 3
   },
   "file_extension": ".py",
   "mimetype": "text/x-python",
   "name": "python",
   "nbconvert_exporter": "python",
   "pygments_lexer": "ipython3",
   "version": "3.10.6"
  },
  "orig_nbformat": 4,
  "vscode": {
   "interpreter": {
    "hash": "5c2eae4f387f48c6f060ba94db73f9ed1c3f6b20f388481d7647fcca09c0c17a"
   }
  }
 },
 "nbformat": 4,
 "nbformat_minor": 2
}
